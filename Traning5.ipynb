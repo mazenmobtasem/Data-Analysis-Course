{
 "cells": [
  {
   "cell_type": "markdown",
   "metadata": {
    "id": "Vs57VnOgfola"
   },
   "source": [
    "# JupyterDash\n",
    "https://medium.com/plotly/introducing-jupyterdash-811f1f57c02e\n",
    "\n",
    "\n",
    "The `jupyter-dash` package makes it easy to develop Plotly Dash apps from the Jupyter Notebook and JupyterLab.\n",
    "\n",
    "Just replace the standard `dash.Dash` class with the `jupyter_dash.JupyterDash` subclass.\n"
   ]
  },
  {
   "cell_type": "code",
   "execution_count": 1,
   "metadata": {
    "colab": {
     "base_uri": "https://localhost:8080/"
    },
    "id": "KVx68UaBfole",
    "outputId": "95009346-5e79-4152-e0fb-3a07fc518958"
   },
   "outputs": [
    {
     "name": "stdout",
     "output_type": "stream",
     "text": [
      "Collecting jupyter-dash\n",
      "  Downloading https://files.pythonhosted.org/packages/46/21/d3893ad0b7a7061115938d6c38f5862522d45c4199fb7e8fde0765781e13/jupyter_dash-0.4.0-py3-none-any.whl\n",
      "Requirement already satisfied: requests in d:\\programs\\python\\lib\\site-packages (from jupyter-dash) (2.18.4)\n",
      "Collecting dash (from jupyter-dash)\n",
      "  Downloading https://files.pythonhosted.org/packages/d4/50/e7c2830168db186f84b7de2988543e974433a6cdb0a0b23d51c781e2b2ab/dash-1.20.0.tar.gz (77kB)\n",
      "Collecting retrying (from jupyter-dash)\n",
      "  Downloading https://files.pythonhosted.org/packages/44/ef/beae4b4ef80902f22e3af073397f079c96969c69b2c7d52a57ea9ae61c9d/retrying-1.3.3.tar.gz\n",
      "Requirement already satisfied: ipykernel in d:\\programs\\python\\lib\\site-packages (from jupyter-dash) (4.8.2)\n",
      "Collecting ansi2html (from jupyter-dash)\n",
      "  Downloading https://files.pythonhosted.org/packages/c6/85/3a46be84afbb16b392a138cd396117f438c7b2e91d8dc327621d1ae1b5dc/ansi2html-1.6.0-py3-none-any.whl\n",
      "Requirement already satisfied: ipython in d:\\programs\\python\\lib\\site-packages (from jupyter-dash) (6.4.0)\n",
      "Requirement already satisfied: flask in d:\\programs\\python\\lib\\site-packages (from jupyter-dash) (1.0.2)\n",
      "Requirement already satisfied: chardet<3.1.0,>=3.0.2 in d:\\programs\\python\\lib\\site-packages (from requests->jupyter-dash) (3.0.4)\n",
      "Requirement already satisfied: idna<2.7,>=2.5 in d:\\programs\\python\\lib\\site-packages (from requests->jupyter-dash) (2.6)\n",
      "Requirement already satisfied: urllib3<1.23,>=1.21.1 in d:\\programs\\python\\lib\\site-packages (from requests->jupyter-dash) (1.22)\n",
      "Requirement already satisfied: certifi>=2017.4.17 in d:\\programs\\python\\lib\\site-packages (from requests->jupyter-dash) (2019.3.9)\n",
      "Collecting flask-compress (from dash->jupyter-dash)\n",
      "  Downloading https://files.pythonhosted.org/packages/c6/d5/69b13600230d24310b98a52da561113fc01a5c17acf77152761eef3e50f1/Flask_Compress-1.9.0-py3-none-any.whl\n",
      "Collecting plotly (from dash->jupyter-dash)\n",
      "  Downloading https://files.pythonhosted.org/packages/1f/f6/bd3c17c8003b6641df1228e80e1acac97ed8402635e46c2571f8e1ef63af/plotly-4.14.3-py2.py3-none-any.whl (13.2MB)\n",
      "Collecting dash_renderer==1.9.1 (from dash->jupyter-dash)\n",
      "  Downloading https://files.pythonhosted.org/packages/5f/d3/d661a68b4ce71498d5c0c79617bce3d5fc884d4448c698f77c2247cd1b46/dash_renderer-1.9.1.tar.gz (1.0MB)\n",
      "Collecting dash-core-components==1.16.0 (from dash->jupyter-dash)\n",
      "  Downloading https://files.pythonhosted.org/packages/f4/79/434e14d77dbf82b27f98df077936a424de254059d47152b0445b7116e97e/dash_core_components-1.16.0.tar.gz (3.5MB)\n",
      "Collecting dash-html-components==1.1.3 (from dash->jupyter-dash)\n",
      "  Downloading https://files.pythonhosted.org/packages/8f/ca/7eeca4cae4e15cc6f7d0bc41a46368dd3fcdddc72aaa5bac61a8b92d541c/dash_html_components-1.1.3.tar.gz (82kB)\n",
      "Collecting dash-table==4.11.3 (from dash->jupyter-dash)\n",
      "  Downloading https://files.pythonhosted.org/packages/97/f7/f4969a926f20a55d3e5970d01b85ff9ad510dba32de189e72dd8f4992740/dash_table-4.11.3.tar.gz (1.8MB)\n",
      "Collecting future (from dash->jupyter-dash)\n",
      "  Downloading https://files.pythonhosted.org/packages/45/0b/38b06fd9b92dc2b68d58b75f900e97884c45bedd2ff83203d933cf5851c9/future-0.18.2.tar.gz (829kB)\n",
      "Requirement already satisfied: six>=1.7.0 in d:\\programs\\python\\lib\\site-packages (from retrying->jupyter-dash) (1.11.0)\n",
      "Requirement already satisfied: traitlets>=4.1.0 in d:\\programs\\python\\lib\\site-packages (from ipykernel->jupyter-dash) (4.3.2)\n",
      "Requirement already satisfied: jupyter_client in d:\\programs\\python\\lib\\site-packages (from ipykernel->jupyter-dash) (5.2.3)\n",
      "Requirement already satisfied: tornado>=4.0 in d:\\programs\\python\\lib\\site-packages (from ipykernel->jupyter-dash) (5.0.2)\n",
      "Requirement already satisfied: pickleshare in d:\\programs\\python\\lib\\site-packages (from ipython->jupyter-dash) (0.7.4)\n",
      "Requirement already satisfied: decorator in d:\\programs\\python\\lib\\site-packages (from ipython->jupyter-dash) (4.3.0)\n",
      "Requirement already satisfied: backcall in d:\\programs\\python\\lib\\site-packages (from ipython->jupyter-dash) (0.1.0)\n",
      "Requirement already satisfied: colorama; sys_platform == \"win32\" in d:\\programs\\python\\lib\\site-packages (from ipython->jupyter-dash) (0.3.9)\n",
      "Requirement already satisfied: pygments in d:\\programs\\python\\lib\\site-packages (from ipython->jupyter-dash) (2.2.0)\n",
      "Requirement already satisfied: prompt-toolkit<2.0.0,>=1.0.15 in d:\\programs\\python\\lib\\site-packages (from ipython->jupyter-dash) (1.0.15)\n",
      "Requirement already satisfied: simplegeneric>0.8 in d:\\programs\\python\\lib\\site-packages (from ipython->jupyter-dash) (0.8.1)\n",
      "Requirement already satisfied: setuptools>=18.5 in d:\\programs\\python\\lib\\site-packages (from ipython->jupyter-dash) (39.1.0)\n",
      "Requirement already satisfied: jedi>=0.10 in d:\\programs\\python\\lib\\site-packages (from ipython->jupyter-dash) (0.12.0)\n",
      "Requirement already satisfied: itsdangerous>=0.24 in d:\\programs\\python\\lib\\site-packages (from flask->jupyter-dash) (0.24)\n",
      "Requirement already satisfied: Werkzeug>=0.14 in d:\\programs\\python\\lib\\site-packages (from flask->jupyter-dash) (0.14.1)\n",
      "Requirement already satisfied: click>=5.1 in d:\\programs\\python\\lib\\site-packages (from flask->jupyter-dash) (6.7)\n",
      "Requirement already satisfied: Jinja2>=2.10 in d:\\programs\\python\\lib\\site-packages (from flask->jupyter-dash) (2.10)\n",
      "Collecting brotli (from flask-compress->dash->jupyter-dash)\n",
      "  Downloading https://files.pythonhosted.org/packages/e3/d4/e68c4f2a21cab38ba1defbd5bc6ab7e74e2234383f1daf36153dce11ea9d/Brotli-1.0.9-cp36-cp36m-win_amd64.whl (365kB)\n",
      "Requirement already satisfied: ipython_genutils in d:\\programs\\python\\lib\\site-packages (from traitlets>=4.1.0->ipykernel->jupyter-dash) (0.2.0)\n",
      "Requirement already satisfied: jupyter_core in d:\\programs\\python\\lib\\site-packages (from jupyter_client->ipykernel->jupyter-dash) (4.4.0)\n",
      "Requirement already satisfied: pyzmq>=13 in d:\\programs\\python\\lib\\site-packages (from jupyter_client->ipykernel->jupyter-dash) (17.0.0)\n",
      "Requirement already satisfied: python-dateutil>=2.1 in d:\\programs\\python\\lib\\site-packages (from jupyter_client->ipykernel->jupyter-dash) (2.7.3)\n",
      "Requirement already satisfied: wcwidth in d:\\programs\\python\\lib\\site-packages (from prompt-toolkit<2.0.0,>=1.0.15->ipython->jupyter-dash) (0.1.7)\n",
      "Requirement already satisfied: parso>=0.2.0 in d:\\programs\\python\\lib\\site-packages (from jedi>=0.10->ipython->jupyter-dash) (0.2.0)\n",
      "Requirement already satisfied: MarkupSafe>=0.23 in d:\\programs\\python\\lib\\site-packages (from Jinja2>=2.10->flask->jupyter-dash) (1.0)\n",
      "Building wheels for collected packages: dash, retrying, dash-renderer, dash-core-components, dash-html-components, dash-table, future\n",
      "  Running setup.py bdist_wheel for dash: started\n",
      "  Running setup.py bdist_wheel for dash: finished with status 'done'\n",
      "  Stored in directory: C:\\Users\\robal\\AppData\\Local\\pip\\Cache\\wheels\\e6\\33\\41\\ce361d0d1da277d2350f815b10f2ab1e331592d93ef2b07e29\n",
      "  Running setup.py bdist_wheel for retrying: started\n",
      "  Running setup.py bdist_wheel for retrying: finished with status 'done'\n",
      "  Stored in directory: C:\\Users\\robal\\AppData\\Local\\pip\\Cache\\wheels\\d7\\a9\\33\\acc7b709e2a35caa7d4cae442f6fe6fbf2c43f80823d46460c\n",
      "  Running setup.py bdist_wheel for dash-renderer: started\n",
      "  Running setup.py bdist_wheel for dash-renderer: finished with status 'done'\n",
      "  Stored in directory: C:\\Users\\robal\\AppData\\Local\\pip\\Cache\\wheels\\03\\a9\\c5\\dd5815c601b0ede164c223ffd7bafebde716ca57de06ef8aec\n",
      "  Running setup.py bdist_wheel for dash-core-components: started\n",
      "  Running setup.py bdist_wheel for dash-core-components: finished with status 'done'\n",
      "  Stored in directory: C:\\Users\\robal\\AppData\\Local\\pip\\Cache\\wheels\\86\\1e\\8c\\e87ebba30b73c20dcd641224274febc983af88ed0fd7712a07\n",
      "  Running setup.py bdist_wheel for dash-html-components: started\n",
      "  Running setup.py bdist_wheel for dash-html-components: finished with status 'done'\n",
      "  Stored in directory: C:\\Users\\robal\\AppData\\Local\\pip\\Cache\\wheels\\07\\f9\\6c\\f9b73a6ae1b7f347a92dc240293cebc267b370ba2a80added2\n",
      "  Running setup.py bdist_wheel for dash-table: started\n",
      "  Running setup.py bdist_wheel for dash-table: finished with status 'done'\n",
      "  Stored in directory: C:\\Users\\robal\\AppData\\Local\\pip\\Cache\\wheels\\51\\9b\\89\\374be1bc250e28a15edbd657cf364f163e392ba5257bfd0e87\n",
      "  Running setup.py bdist_wheel for future: started\n",
      "  Running setup.py bdist_wheel for future: finished with status 'done'\n",
      "  Stored in directory: C:\\Users\\robal\\AppData\\Local\\pip\\Cache\\wheels\\8b\\99\\a0\\81daf51dcd359a9377b110a8a886b3895921802d2fc1b2397e\n",
      "Successfully built dash retrying dash-renderer dash-core-components dash-html-components dash-table future\n",
      "Installing collected packages: brotli, flask-compress, retrying, plotly, dash-renderer, dash-core-components, dash-html-components, dash-table, future, dash, ansi2html, jupyter-dash\n",
      "Successfully installed ansi2html-1.6.0 brotli-1.0.9 dash-1.20.0 dash-core-components-1.16.0 dash-html-components-1.1.3 dash-renderer-1.9.1 dash-table-4.11.3 flask-compress-1.9.0 future-0.18.2 jupyter-dash-0.4.0 plotly-4.14.3 retrying-1.3.3\n"
     ]
    },
    {
     "name": "stderr",
     "output_type": "stream",
     "text": [
      "distributed 1.21.8 requires msgpack, which is not installed.\n",
      "tensorflow 1.12.0 has requirement protobuf>=3.6.1, but you'll have protobuf 3.6.0 which is incompatible.\n",
      "dash 1.20.0 has requirement Flask>=1.0.4, but you'll have flask 1.0.2 which is incompatible.\n",
      "You are using pip version 10.0.1, however version 21.1.1 is available.\n",
      "You should consider upgrading via the 'python -m pip install --upgrade pip' command.\n"
     ]
    }
   ],
   "source": [
    "################## installation #########################\n",
    "\n",
    "!pip install jupyter-dash"
   ]
  },
  {
   "cell_type": "code",
   "execution_count": 2,
   "metadata": {
    "id": "3j6dTyr9folf"
   },
   "outputs": [],
   "source": [
    "import dash\n",
    "import dash_core_components as dcc\n",
    "import dash_html_components as html\n",
    "from jupyter_dash import JupyterDash\n",
    "from dash.dependencies import Input, Output\n",
    "\n",
    "\n",
    "import pandas as pd\n",
    "\n",
    "import plotly.express as px\n",
    "import plotly.graph_objects as go\n",
    "import plotly as py\n",
    "from plotly.subplots import make_subplots\n",
    "\n",
    "import requests\n",
    "import json"
   ]
  },
  {
   "cell_type": "markdown",
   "metadata": {
    "id": "E3Ue_kFxfolg"
   },
   "source": [
    "Load and preprocess data"
   ]
  },
  {
   "cell_type": "code",
   "execution_count": 3,
   "metadata": {
    "id": "PPofa1S9folg"
   },
   "outputs": [],
   "source": [
    "file_loc = \"https://raw.githubusercontent.com/bhattbhavesh91/durbin-watson-test-python/master/durbin_data.csv\""
   ]
  },
  {
   "cell_type": "code",
   "execution_count": 4,
   "metadata": {
    "id": "mg2e02m7folh"
   },
   "outputs": [],
   "source": [
    "df1 = pd.read_csv(file_loc)"
   ]
  },
  {
   "cell_type": "code",
   "execution_count": 5,
   "metadata": {
    "colab": {
     "base_uri": "https://localhost:8080/",
     "height": 204
    },
    "id": "c5wsiqfLfolh",
    "outputId": "9590e224-2740-4695-f7a2-83120dce02d7"
   },
   "outputs": [
    {
     "data": {
      "text/html": [
       "<div>\n",
       "<style scoped>\n",
       "    .dataframe tbody tr th:only-of-type {\n",
       "        vertical-align: middle;\n",
       "    }\n",
       "\n",
       "    .dataframe tbody tr th {\n",
       "        vertical-align: top;\n",
       "    }\n",
       "\n",
       "    .dataframe thead th {\n",
       "        text-align: right;\n",
       "    }\n",
       "</style>\n",
       "<table border=\"1\" class=\"dataframe\">\n",
       "  <thead>\n",
       "    <tr style=\"text-align: right;\">\n",
       "      <th></th>\n",
       "      <th>X1</th>\n",
       "      <th>X2</th>\n",
       "      <th>X3</th>\n",
       "      <th>Y</th>\n",
       "    </tr>\n",
       "  </thead>\n",
       "  <tbody>\n",
       "    <tr>\n",
       "      <th>0</th>\n",
       "      <td>230.1</td>\n",
       "      <td>37.8</td>\n",
       "      <td>69.2</td>\n",
       "      <td>22.1</td>\n",
       "    </tr>\n",
       "    <tr>\n",
       "      <th>1</th>\n",
       "      <td>44.5</td>\n",
       "      <td>39.3</td>\n",
       "      <td>45.1</td>\n",
       "      <td>10.4</td>\n",
       "    </tr>\n",
       "    <tr>\n",
       "      <th>2</th>\n",
       "      <td>17.2</td>\n",
       "      <td>45.9</td>\n",
       "      <td>69.3</td>\n",
       "      <td>9.3</td>\n",
       "    </tr>\n",
       "    <tr>\n",
       "      <th>3</th>\n",
       "      <td>151.5</td>\n",
       "      <td>41.3</td>\n",
       "      <td>58.5</td>\n",
       "      <td>18.5</td>\n",
       "    </tr>\n",
       "    <tr>\n",
       "      <th>4</th>\n",
       "      <td>180.8</td>\n",
       "      <td>10.8</td>\n",
       "      <td>58.4</td>\n",
       "      <td>12.9</td>\n",
       "    </tr>\n",
       "  </tbody>\n",
       "</table>\n",
       "</div>"
      ],
      "text/plain": [
       "      X1    X2    X3     Y\n",
       "0  230.1  37.8  69.2  22.1\n",
       "1   44.5  39.3  45.1  10.4\n",
       "2   17.2  45.9  69.3   9.3\n",
       "3  151.5  41.3  58.5  18.5\n",
       "4  180.8  10.8  58.4  12.9"
      ]
     },
     "execution_count": 5,
     "metadata": {},
     "output_type": "execute_result"
    }
   ],
   "source": [
    "df1.head()"
   ]
  },
  {
   "cell_type": "code",
   "execution_count": 6,
   "metadata": {
    "colab": {
     "base_uri": "https://localhost:8080/"
    },
    "id": "9rGK1pPGfoli",
    "outputId": "1731c1cf-8e04-43b7-db6b-3d4b6a47f46b"
   },
   "outputs": [
    {
     "data": {
      "text/plain": [
       "(200, 4)"
      ]
     },
     "execution_count": 6,
     "metadata": {},
     "output_type": "execute_result"
    }
   ],
   "source": [
    "df1.shape"
   ]
  },
  {
   "cell_type": "markdown",
   "metadata": {
    "id": "FgZlh4ZUfolj"
   },
   "source": [
    "# Construct the app layout and callbacks"
   ]
  },
  {
   "cell_type": "markdown",
   "metadata": {
    "id": "2chXW8cofolj"
   },
   "source": [
    "## layout\n",
    "**the layout consists of (header, graph, dropdown list)**\n",
    "\n",
    "https://dash.plotly.com/layout\n",
    "\n",
    "https://dash.plotly.com/dash-core-components/graph\n",
    "    \n",
    "https://dash.plotly.com/dash-core-components/dropdown"
   ]
  },
  {
   "cell_type": "code",
   "execution_count": 7,
   "metadata": {
    "colab": {
     "base_uri": "https://localhost:8080/",
     "height": 671
    },
    "id": "HsFQXlxnfolk",
    "outputId": "7c10f1b7-d4cd-40a4-d393-a913e3aaca63"
   },
   "outputs": [
    {
     "name": "stdout",
     "output_type": "stream",
     "text": [
      "Dash is running on http://127.0.0.1:8084/\n",
      "\n"
     ]
    },
    {
     "data": {
      "text/html": [
       "\n",
       "        <iframe\n",
       "            width=\"100%\"\n",
       "            height=\"650\"\n",
       "            src=\"http://127.0.0.1:8084/\"\n",
       "            frameborder=\"0\"\n",
       "            allowfullscreen\n",
       "        ></iframe>\n",
       "        "
      ],
      "text/plain": [
       "<IPython.lib.display.IFrame at 0x2277db3b518>"
      ]
     },
     "metadata": {},
     "output_type": "display_data"
    }
   ],
   "source": [
    "# Build App\n",
    "app1 = JupyterDash(__name__)\n",
    "\n",
    "app1.layout = html.Div([\n",
    "    \n",
    "    html.H1(\"JupyterDash Demo\"),\n",
    "    \n",
    "    dcc.Graph(id='graph'),\n",
    "    \n",
    "    html.Label([\n",
    "        \n",
    "            \"Input Variable\",\n",
    "        \n",
    "             dcc.Dropdown(\n",
    "                    id='column-dropdown', \n",
    "\n",
    "                     ## list of values\n",
    "                    options=[{'label': c, 'value': c} for c in df1.columns],\n",
    "                                  \n",
    "                     ## initial value\n",
    "                    value = df1.columns[0]\n",
    "                     \n",
    "            )\n",
    "    ]),\n",
    "])\n",
    "\n",
    "app1.run_server(mode='inline', port = 8084 )"
   ]
  },
  {
   "cell_type": "markdown",
   "metadata": {
    "id": "lkkEmcSHfolk"
   },
   "source": [
    "## callbacks \n",
    "\n",
    "https://dash.plotly.com/basic-callbacks"
   ]
  },
  {
   "cell_type": "markdown",
   "metadata": {
    "id": "3OsJ--n2foll"
   },
   "source": [
    "*decorators tutorial https://www.youtube.com/watch?v=FsAPt_9Bf3U*"
   ]
  },
  {
   "cell_type": "code",
   "execution_count": 8,
   "metadata": {
    "colab": {
     "base_uri": "https://localhost:8080/",
     "height": 671
    },
    "id": "dXhGIgM-foll",
    "outputId": "51597adc-c23e-4889-e5dc-c8ae182dc631"
   },
   "outputs": [
    {
     "name": "stdout",
     "output_type": "stream",
     "text": [
      "Dash is running on http://127.0.0.1:8083/\n",
      "\n"
     ]
    },
    {
     "data": {
      "text/html": [
       "\n",
       "        <iframe\n",
       "            width=\"100%\"\n",
       "            height=\"650\"\n",
       "            src=\"http://127.0.0.1:8083/\"\n",
       "            frameborder=\"0\"\n",
       "            allowfullscreen\n",
       "        ></iframe>\n",
       "        "
      ],
      "text/plain": [
       "<IPython.lib.display.IFrame at 0x2277dd53c50>"
      ]
     },
     "metadata": {},
     "output_type": "display_data"
    }
   ],
   "source": [
    "# Define callback to update graph\n",
    "\n",
    "@app1.callback(\n",
    "    Output('graph', 'figure'),\n",
    "    [Input(\"column-dropdown\", \"value\")] )\n",
    "def update_figure(column):\n",
    "    \n",
    "    return px.scatter(\n",
    "            df1, \n",
    "            x=column, \n",
    "            y=\"Y\",\n",
    "            title=\"Scatter Plot\"\n",
    "    )\n",
    "# Run app and display result inline in the notebook\n",
    "app1.run_server(mode='inline', port = 8083)"
   ]
  },
  {
   "cell_type": "markdown",
   "metadata": {
    "id": "Mt2_ztlhfolm"
   },
   "source": [
    "# lab tasks"
   ]
  },
  {
   "cell_type": "markdown",
   "metadata": {
    "id": "dc-iDes0folm"
   },
   "source": [
    "**we are calling an api to get the updated data of covid19**"
   ]
  },
  {
   "cell_type": "code",
   "execution_count": 9,
   "metadata": {
    "id": "7sNudLHjfoln"
   },
   "outputs": [],
   "source": [
    "url_g = \"https://covid19.mathdro.id/api\"\n",
    "response_g = requests.get(url_g)\n",
    "data_g = response_g.text\n",
    "main_parsed_g = json.loads(data_g)"
   ]
  },
  {
   "cell_type": "code",
   "execution_count": 10,
   "metadata": {
    "colab": {
     "base_uri": "https://localhost:8080/"
    },
    "id": "2DbqCPkefoln",
    "outputId": "a0f1bb33-e267-4b34-d4e4-0f32b15288ff"
   },
   "outputs": [
    {
     "data": {
      "text/plain": [
       "{'confirmed': {'value': 161253616,\n",
       "  'detail': 'https://covid19.mathdro.id/api/confirmed'},\n",
       " 'recovered': {'value': 97180162,\n",
       "  'detail': 'https://covid19.mathdro.id/api/recovered'},\n",
       " 'deaths': {'value': 3346827,\n",
       "  'detail': 'https://covid19.mathdro.id/api/deaths'},\n",
       " 'dailySummary': 'https://covid19.mathdro.id/api/daily',\n",
       " 'dailyTimeSeries': {'pattern': 'https://covid19.mathdro.id/api/daily/[dateString]',\n",
       "  'example': 'https://covid19.mathdro.id/api/daily/2-14-2020'},\n",
       " 'image': 'https://covid19.mathdro.id/api/og',\n",
       " 'source': 'https://github.com/mathdroid/covid19',\n",
       " 'countries': 'https://covid19.mathdro.id/api/countries',\n",
       " 'countryDetail': {'pattern': 'https://covid19.mathdro.id/api/countries/[country]',\n",
       "  'example': 'https://covid19.mathdro.id/api/countries/USA'},\n",
       " 'lastUpdate': '2021-05-14T11:20:45.000Z'}"
      ]
     },
     "execution_count": 10,
     "metadata": {},
     "output_type": "execute_result"
    }
   ],
   "source": [
    "main_parsed_g "
   ]
  },
  {
   "cell_type": "markdown",
   "metadata": {
    "id": "ANzBIGqNfolo"
   },
   "source": [
    "# Task 1\n",
    "\n",
    "**plot a pie chart of [death, recovered, confirmed] values in the global data**\n"
   ]
  },
  {
   "cell_type": "code",
   "execution_count": 11,
   "metadata": {
    "id": "rvhmk7-tfolo"
   },
   "outputs": [],
   "source": [
    "## get the 3 values from the dictionary main_parsed_g\n",
    "\n",
    "# your code here\n",
    "confirmed_g = main_parsed_g['confirmed']['value']\n",
    "recovered_g = main_parsed_g['recovered']['value']\n",
    "deaths_g = main_parsed_g['deaths']['value']\n",
    "\n",
    "## create a plotly pie chart #### use: px.pie ####\n",
    "\n",
    "# your code here\n",
    "fig1 = px.pie(\n",
    "      values = [confirmed_g,recovered_g, deaths_g],\n",
    "      title = \"Covid 19 confirmed cases\",\n",
    "      names = [\"Death\",\"Recovered\",\"Confirmed Cases\"],\n",
    "      color = [\"confirmed\",\"recovered\",\"deaths\"],\n",
    "      color_discrete_map = {\n",
    "          'confirmed':'red',\n",
    "          'recovered': 'springgreen',\n",
    "          'deaths': 'black'\n",
    "      }\n",
    ")\n",
    "\n",
    "\n",
    "\n",
    "\n"
   ]
  },
  {
   "cell_type": "markdown",
   "metadata": {
    "id": "rDbbzIeofolo"
   },
   "source": [
    "**create the app layout with [a header, a graph to plot your pie chart]**"
   ]
  },
  {
   "cell_type": "code",
   "execution_count": 12,
   "metadata": {
    "colab": {
     "base_uri": "https://localhost:8080/",
     "height": 671
    },
    "id": "qEeAiGmqfolp",
    "outputId": "8788a826-20cf-48de-bbbf-121681b378a6"
   },
   "outputs": [
    {
     "name": "stdout",
     "output_type": "stream",
     "text": [
      "Dash is running on http://127.0.0.1:8099/\n",
      "\n",
      "Dash is running on http://127.0.0.1:8099/\n",
      "\n"
     ]
    },
    {
     "data": {
      "text/html": [
       "\n",
       "        <iframe\n",
       "            width=\"100%\"\n",
       "            height=\"650\"\n",
       "            src=\"http://127.0.0.1:8099/\"\n",
       "            frameborder=\"0\"\n",
       "            allowfullscreen\n",
       "        ></iframe>\n",
       "        "
      ],
      "text/plain": [
       "<IPython.lib.display.IFrame at 0x2277f551a58>"
      ]
     },
     "metadata": {},
     "output_type": "display_data"
    }
   ],
   "source": [
    "external_stylesheets = ['https://codepen.io/chriddyp/pen/bWLwgP.css']\n",
    "\n",
    "app2 = JupyterDash(__name__, external_stylesheets=external_stylesheets)\n",
    "server = app2.server\n",
    "\n",
    "\n",
    "colors = {\n",
    "    'background': '#111111',\n",
    "    'text': '#2b580c'\n",
    "}\n",
    "\n",
    "app2.layout = html.Div(children=[\n",
    "    \n",
    "    ## your code here\n",
    "    \n",
    "    #header\n",
    "    html.H1(\n",
    "        children = 'Covid Statistics',\n",
    "        style = {\n",
    "            'textAlign': 'center',\n",
    "            'color': colors['text']\n",
    "        }\n",
    "    ),\n",
    "    #graph\n",
    "    dcc.Graph(id = 'covid_world',\n",
    "              figure = fig1\n",
    "              )\n",
    "])\n",
    "\n",
    "app2.run_server(mode='inline' , port = 8099)"
   ]
  },
  {
   "cell_type": "markdown",
   "metadata": {
    "id": "pU3q4i1tfolq"
   },
   "source": [
    "# Task 2\n",
    "\n",
    "**plot a bar chart of [death, recovered, confirmed] values in Egypt**\n"
   ]
  },
  {
   "cell_type": "code",
   "execution_count": 16,
   "metadata": {
    "id": "flXIywsvfolq"
   },
   "outputs": [],
   "source": [
    "# =============== In Egypt =================\n",
    "\n",
    "url = \"https://covid19.mathdro.id/api/countries/EG\"\n",
    "\n",
    "## call the api and load the data\n",
    "\n",
    "# your code here\n",
    "response = requests.get(url)\n",
    "data = response.text\n",
    "main_parsed = json.loads(data)\n",
    "\n",
    "\n",
    "## get the 3 values from the dictionary main_parsed_g\n",
    "\n",
    "# your code here\n",
    "confirmed = main_parsed['confirmed']['value']\n",
    "recovered = main_parsed['recovered']['value']\n",
    "deaths = main_parsed['deaths']['value']\n",
    "\n",
    "\n",
    "## create a plotly bar chart #### use: px.bar ####\n",
    "\n",
    "# your code here\n",
    "fig2 = px.bar(\n",
    "        title = \"Covid Cases in Egypt\",\n",
    "        x = [\"Confirmed Cases\",\"Recovered\",'Death' ],\n",
    "        y = [confirmed, recovered, deaths]\n",
    "        )\n",
    "\n",
    "\n"
   ]
  },
  {
   "cell_type": "markdown",
   "metadata": {
    "id": "Y8JyGgdifolr"
   },
   "source": [
    "**update the app layout to add the seconde graph**"
   ]
  },
  {
   "cell_type": "code",
   "execution_count": 17,
   "metadata": {
    "colab": {
     "base_uri": "https://localhost:8080/",
     "height": 671
    },
    "id": "2q90ivQ-folr",
    "outputId": "6f582eb8-124b-43ca-c369-8d2a027252c0"
   },
   "outputs": [
    {
     "name": "stdout",
     "output_type": "stream",
     "text": [
      "Dash is running on http://127.0.0.1:8092/\n",
      "\n",
      "Dash is running on http://127.0.0.1:8092/\n",
      "\n"
     ]
    },
    {
     "data": {
      "text/html": [
       "\n",
       "        <iframe\n",
       "            width=\"100%\"\n",
       "            height=\"650\"\n",
       "            src=\"http://127.0.0.1:8092/\"\n",
       "            frameborder=\"0\"\n",
       "            allowfullscreen\n",
       "        ></iframe>\n",
       "        "
      ],
      "text/plain": [
       "<IPython.lib.display.IFrame at 0x2277f213f28>"
      ]
     },
     "metadata": {},
     "output_type": "display_data"
    }
   ],
   "source": [
    "app2.layout = html.Div(children=[\n",
    "    \n",
    "    ## your code here \n",
    "    \n",
    "    # header\n",
    "    html.H1(\n",
    "        children = 'Covid Statistics',\n",
    "        style = {\n",
    "            'textAlign': 'center',\n",
    "            'color': colors['text']\n",
    "        }\n",
    "    ),\n",
    "    # graph 1\n",
    "    dcc.Graph(id = 'covid_world',\n",
    "              figure = fig1\n",
    "              ),\n",
    "    # graph 2\n",
    "    dcc.Graph(id = 'covid_Egypt',\n",
    "              figure = fig2\n",
    "              )\n",
    "    \n",
    "    \n",
    "])\n",
    "\n",
    "app2.run_server(mode='inline' , port = 8092, debug=False)"
   ]
  },
  {
   "cell_type": "markdown",
   "metadata": {
    "id": "4VVO5hPDfolr"
   },
   "source": [
    "# Task 3\n",
    "\n",
    "**create a table of the top countries with confirmed citizens**"
   ]
  },
  {
   "cell_type": "code",
   "execution_count": 21,
   "metadata": {
    "colab": {
     "base_uri": "https://localhost:8080/",
     "height": 35
    },
    "id": "IpEdDhqKfols",
    "outputId": "a7f5fb63-4e04-421d-d0e4-4cdb554a37c9"
   },
   "outputs": [],
   "source": [
    "# ========= Table of top countries ============\n",
    "url_t = \"https://covid19.mathdro.id/api/confirmed\"\n",
    "\n",
    "## call the api and load the data\n",
    "\n",
    "# your code here\n",
    "\n",
    "response = requests.get(url_t)\n",
    "data_t = response.text\n",
    "main_parsed_t = json.loads(data_t)\n",
    "\n",
    "\n",
    "'''\n",
    "get two lists to be passed later to the table, \n",
    "one for the countries sorted by the number of confirmed citizend in a descending order\n",
    "the second for the number of the confirmed citizens\n",
    " \n",
    "'''\n",
    "\n",
    "\n",
    "## your code here\n",
    "countries = []\n",
    "confirmed_citizens = []\n",
    "\n",
    "Sorted_country = sorted(main_parsed_t, key = lambda P: P['confirmed'], reverse = True)\n",
    "\n",
    "for Dic in Sorted_country:\n",
    "    countries.append((Dic['countryRegion'],Dic['provinceState']))\n",
    "    confirmed_citizens.append((Dic['confirmed']))\n"
   ]
  },
  {
   "cell_type": "code",
   "execution_count": 22,
   "metadata": {
    "colab": {
     "base_uri": "https://localhost:8080/",
     "height": 35
    },
    "id": "ljupu2akfols",
    "outputId": "dd0f3b81-8cf6-44bc-9048-a5629810745e"
   },
   "outputs": [],
   "source": [
    "'''\n",
    "create a table and pass the countries list as the first column ,\n",
    "\n",
    "and the list of the number of confirmed cititzens as the second column\n",
    "\n",
    "hint: use go\n",
    "\n",
    "'''\n",
    "\n",
    "## your code here\n",
    "\n",
    "import plotly.graph_objects as go\n",
    "\n",
    "fig3 = go.Figure(data = [go.Table(\n",
    "    \n",
    "    header = dict(\n",
    "            values = [\"Country\", \"Number of confirmed\"],\n",
    "        \n",
    "            line_color = 'seagreen',\n",
    "            fill_color = \"#61d4b3\",\n",
    "            align = 'right'\n",
    "    ),\n",
    "    \n",
    "    cells = dict(\n",
    "        values = [countries,confirmed_citizens],\n",
    "        line_color = 'darkslategray',\n",
    "        fill_color = 'white',\n",
    "        align = 'right'))\n",
    "\n",
    "                        \n",
    "])"
   ]
  },
  {
   "cell_type": "markdown",
   "metadata": {
    "id": "l1UefKdafolt"
   },
   "source": [
    "**update the app layout to add the third graph**"
   ]
  },
  {
   "cell_type": "code",
   "execution_count": 25,
   "metadata": {
    "colab": {
     "base_uri": "https://localhost:8080/",
     "height": 671
    },
    "id": "PDuuW0NXfolt",
    "outputId": "f7298c92-f8d1-4f4e-fc4f-49b745906d41"
   },
   "outputs": [
    {
     "name": "stdout",
     "output_type": "stream",
     "text": [
      "Dash is running on http://127.0.0.1:8095/\n",
      "\n",
      "Dash is running on http://127.0.0.1:8095/\n",
      "\n"
     ]
    },
    {
     "data": {
      "text/html": [
       "\n",
       "        <iframe\n",
       "            width=\"100%\"\n",
       "            height=\"650\"\n",
       "            src=\"http://127.0.0.1:8095/\"\n",
       "            frameborder=\"0\"\n",
       "            allowfullscreen\n",
       "        ></iframe>\n",
       "        "
      ],
      "text/plain": [
       "<IPython.lib.display.IFrame at 0x2277de35a58>"
      ]
     },
     "metadata": {},
     "output_type": "display_data"
    }
   ],
   "source": [
    "# ========= Plotting as Dash =============================\n",
    "\n",
    "app2.layout = html.Div(children=[\n",
    "    \n",
    "    ## your code here\n",
    "    \n",
    "    #header\n",
    "    html.H1(\n",
    "        children = 'Covid Statistics',\n",
    "        style = {\n",
    "            'textAlign': 'center',\n",
    "            'color': colors['text']\n",
    "        }\n",
    "    ),\n",
    "    \n",
    "    \n",
    "    \n",
    "    # graph 1\n",
    "    dcc.Graph(id = 'covid_world',\n",
    "              figure = fig1\n",
    "    ),\n",
    "    \n",
    "    \n",
    "    \n",
    "    # graph 2\n",
    "    dcc.Graph(id = 'covid_Egypt',\n",
    "              figure = fig2\n",
    "              ),\n",
    "    \n",
    "    # graph 3\n",
    "    dcc.Graph(\n",
    "        id = 'Covid Top Countries',\n",
    "        figure = fig3\n",
    "    )\n",
    "\n",
    "    \n",
    "    \n",
    "])\n",
    "\n",
    "app2.run_server(mode='inline' , port = 8095, debug=False)"
   ]
  }
 ],
 "metadata": {
  "colab": {
   "name": "CSCI322_lab5.ipynb",
   "provenance": []
  },
  "jupytext": {
   "formats": "ipynb,py:percent"
  },
  "kernelspec": {
   "display_name": "Python 3",
   "language": "python",
   "name": "python3"
  },
  "language_info": {
   "codemirror_mode": {
    "name": "ipython",
    "version": 3
   },
   "file_extension": ".py",
   "mimetype": "text/x-python",
   "name": "python",
   "nbconvert_exporter": "python",
   "pygments_lexer": "ipython3",
   "version": "3.6.5"
  }
 },
 "nbformat": 4,
 "nbformat_minor": 1
}
