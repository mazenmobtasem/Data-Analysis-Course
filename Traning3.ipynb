{
  "nbformat": 4,
  "nbformat_minor": 0,
  "metadata": {
    "accelerator": "GPU",
    "colab": {
      "name": "Mazen_Mobtasem_18100142_CSCI322_lab3.ipynb",
      "provenance": [],
      "collapsed_sections": []
    },
    "kernelspec": {
      "display_name": "Python 3",
      "language": "python",
      "name": "python3"
    },
    "language_info": {
      "codemirror_mode": {
        "name": "ipython",
        "version": 3
      },
      "file_extension": ".py",
      "mimetype": "text/x-python",
      "name": "python",
      "nbconvert_exporter": "python",
      "pygments_lexer": "ipython3",
      "version": "3.8.5"
    }
  },
  "cells": [
    {
      "cell_type": "code",
      "metadata": {
        "id": "dEovd7WOAgak"
      },
      "source": [
        "import pandas as pd\n",
        "import numpy as np"
      ],
      "execution_count": 1,
      "outputs": []
    },
    {
      "cell_type": "code",
      "metadata": {
        "id": "Rd5Qei5MGhyN"
      },
      "source": [
        "file = 'ted_main.csv'\n",
        "df = pd.read_csv(file)"
      ],
      "execution_count": 2,
      "outputs": []
    },
    {
      "cell_type": "code",
      "metadata": {
        "colab": {
          "base_uri": "https://localhost:8080/",
          "height": 417
        },
        "id": "ZNBLHHpsRj8V",
        "outputId": "db71cff9-7e87-4959-e541-aab8f3d156b9"
      },
      "source": [
        "df.head(3)"
      ],
      "execution_count": 3,
      "outputs": [
        {
          "output_type": "execute_result",
          "data": {
            "text/html": [
              "<div>\n",
              "<style scoped>\n",
              "    .dataframe tbody tr th:only-of-type {\n",
              "        vertical-align: middle;\n",
              "    }\n",
              "\n",
              "    .dataframe tbody tr th {\n",
              "        vertical-align: top;\n",
              "    }\n",
              "\n",
              "    .dataframe thead th {\n",
              "        text-align: right;\n",
              "    }\n",
              "</style>\n",
              "<table border=\"1\" class=\"dataframe\">\n",
              "  <thead>\n",
              "    <tr style=\"text-align: right;\">\n",
              "      <th></th>\n",
              "      <th>comments</th>\n",
              "      <th>description</th>\n",
              "      <th>duration</th>\n",
              "      <th>event</th>\n",
              "      <th>film_date</th>\n",
              "      <th>languages</th>\n",
              "      <th>main_speaker</th>\n",
              "      <th>name</th>\n",
              "      <th>num_speaker</th>\n",
              "      <th>published_date</th>\n",
              "      <th>ratings</th>\n",
              "      <th>related_talks</th>\n",
              "      <th>speaker_occupation</th>\n",
              "      <th>tags</th>\n",
              "      <th>title</th>\n",
              "      <th>url</th>\n",
              "      <th>views</th>\n",
              "    </tr>\n",
              "  </thead>\n",
              "  <tbody>\n",
              "    <tr>\n",
              "      <th>0</th>\n",
              "      <td>4553</td>\n",
              "      <td>Sir Ken Robinson makes an entertaining and pro...</td>\n",
              "      <td>1164</td>\n",
              "      <td>TED2006</td>\n",
              "      <td>1140825600</td>\n",
              "      <td>60</td>\n",
              "      <td>Ken Robinson</td>\n",
              "      <td>Ken Robinson: Do schools kill creativity?</td>\n",
              "      <td>1</td>\n",
              "      <td>1151367060</td>\n",
              "      <td>[{'id': 7, 'name': 'Funny', 'count': 19645}, {...</td>\n",
              "      <td>[{'id': 865, 'hero': 'https://pe.tedcdn.com/im...</td>\n",
              "      <td>Author/educator</td>\n",
              "      <td>['children', 'creativity', 'culture', 'dance',...</td>\n",
              "      <td>Do schools kill creativity?</td>\n",
              "      <td>https://www.ted.com/talks/ken_robinson_says_sc...</td>\n",
              "      <td>47227110</td>\n",
              "    </tr>\n",
              "    <tr>\n",
              "      <th>1</th>\n",
              "      <td>265</td>\n",
              "      <td>With the same humor and humanity he exuded in ...</td>\n",
              "      <td>977</td>\n",
              "      <td>TED2006</td>\n",
              "      <td>1140825600</td>\n",
              "      <td>43</td>\n",
              "      <td>Al Gore</td>\n",
              "      <td>Al Gore: Averting the climate crisis</td>\n",
              "      <td>1</td>\n",
              "      <td>1151367060</td>\n",
              "      <td>[{'id': 7, 'name': 'Funny', 'count': 544}, {'i...</td>\n",
              "      <td>[{'id': 243, 'hero': 'https://pe.tedcdn.com/im...</td>\n",
              "      <td>Climate advocate</td>\n",
              "      <td>['alternative energy', 'cars', 'climate change...</td>\n",
              "      <td>Averting the climate crisis</td>\n",
              "      <td>https://www.ted.com/talks/al_gore_on_averting_...</td>\n",
              "      <td>3200520</td>\n",
              "    </tr>\n",
              "    <tr>\n",
              "      <th>2</th>\n",
              "      <td>124</td>\n",
              "      <td>New York Times columnist David Pogue takes aim...</td>\n",
              "      <td>1286</td>\n",
              "      <td>TED2006</td>\n",
              "      <td>1140739200</td>\n",
              "      <td>26</td>\n",
              "      <td>David Pogue</td>\n",
              "      <td>David Pogue: Simplicity sells</td>\n",
              "      <td>1</td>\n",
              "      <td>1151367060</td>\n",
              "      <td>[{'id': 7, 'name': 'Funny', 'count': 964}, {'i...</td>\n",
              "      <td>[{'id': 1725, 'hero': 'https://pe.tedcdn.com/i...</td>\n",
              "      <td>Technology columnist</td>\n",
              "      <td>['computers', 'entertainment', 'interface desi...</td>\n",
              "      <td>Simplicity sells</td>\n",
              "      <td>https://www.ted.com/talks/david_pogue_says_sim...</td>\n",
              "      <td>1636292</td>\n",
              "    </tr>\n",
              "  </tbody>\n",
              "</table>\n",
              "</div>"
            ],
            "text/plain": [
              "   comments  ...     views\n",
              "0      4553  ...  47227110\n",
              "1       265  ...   3200520\n",
              "2       124  ...   1636292\n",
              "\n",
              "[3 rows x 17 columns]"
            ]
          },
          "metadata": {
            "tags": []
          },
          "execution_count": 3
        }
      ]
    },
    {
      "cell_type": "markdown",
      "metadata": {
        "id": "7AhWTHD47kCk"
      },
      "source": [
        "# TimeStamp\n",
        "\n",
        "convert the timestamp columns [film_date, published_date] to normal dates with format yyyy-mm-dd\n",
        "```\n",
        "pd.to_datetime()\n",
        "```\n",
        "\n"
      ]
    },
    {
      "cell_type": "code",
      "metadata": {
        "id": "ysbLIeQshOHI"
      },
      "source": [
        "## your code here\n",
        "df[\"film_date\"] = pd.to_datetime(df[\"film_date\"],unit = 's')\n",
        "df[\"published_date\"] = pd.to_datetime(df[\"published_date\"],unit = 's')"
      ],
      "execution_count": 4,
      "outputs": []
    },
    {
      "cell_type": "code",
      "metadata": {
        "colab": {
          "base_uri": "https://localhost:8080/",
          "height": 598
        },
        "id": "54H7a4mxRj8i",
        "outputId": "a5d98cc4-6d23-4afb-fb0e-9f92de32b745"
      },
      "source": [
        "df.head()"
      ],
      "execution_count": 5,
      "outputs": [
        {
          "output_type": "execute_result",
          "data": {
            "text/html": [
              "<div>\n",
              "<style scoped>\n",
              "    .dataframe tbody tr th:only-of-type {\n",
              "        vertical-align: middle;\n",
              "    }\n",
              "\n",
              "    .dataframe tbody tr th {\n",
              "        vertical-align: top;\n",
              "    }\n",
              "\n",
              "    .dataframe thead th {\n",
              "        text-align: right;\n",
              "    }\n",
              "</style>\n",
              "<table border=\"1\" class=\"dataframe\">\n",
              "  <thead>\n",
              "    <tr style=\"text-align: right;\">\n",
              "      <th></th>\n",
              "      <th>comments</th>\n",
              "      <th>description</th>\n",
              "      <th>duration</th>\n",
              "      <th>event</th>\n",
              "      <th>film_date</th>\n",
              "      <th>languages</th>\n",
              "      <th>main_speaker</th>\n",
              "      <th>name</th>\n",
              "      <th>num_speaker</th>\n",
              "      <th>published_date</th>\n",
              "      <th>ratings</th>\n",
              "      <th>related_talks</th>\n",
              "      <th>speaker_occupation</th>\n",
              "      <th>tags</th>\n",
              "      <th>title</th>\n",
              "      <th>url</th>\n",
              "      <th>views</th>\n",
              "    </tr>\n",
              "  </thead>\n",
              "  <tbody>\n",
              "    <tr>\n",
              "      <th>0</th>\n",
              "      <td>4553</td>\n",
              "      <td>Sir Ken Robinson makes an entertaining and pro...</td>\n",
              "      <td>1164</td>\n",
              "      <td>TED2006</td>\n",
              "      <td>2006-02-25</td>\n",
              "      <td>60</td>\n",
              "      <td>Ken Robinson</td>\n",
              "      <td>Ken Robinson: Do schools kill creativity?</td>\n",
              "      <td>1</td>\n",
              "      <td>2006-06-27 00:11:00</td>\n",
              "      <td>[{'id': 7, 'name': 'Funny', 'count': 19645}, {...</td>\n",
              "      <td>[{'id': 865, 'hero': 'https://pe.tedcdn.com/im...</td>\n",
              "      <td>Author/educator</td>\n",
              "      <td>['children', 'creativity', 'culture', 'dance',...</td>\n",
              "      <td>Do schools kill creativity?</td>\n",
              "      <td>https://www.ted.com/talks/ken_robinson_says_sc...</td>\n",
              "      <td>47227110</td>\n",
              "    </tr>\n",
              "    <tr>\n",
              "      <th>1</th>\n",
              "      <td>265</td>\n",
              "      <td>With the same humor and humanity he exuded in ...</td>\n",
              "      <td>977</td>\n",
              "      <td>TED2006</td>\n",
              "      <td>2006-02-25</td>\n",
              "      <td>43</td>\n",
              "      <td>Al Gore</td>\n",
              "      <td>Al Gore: Averting the climate crisis</td>\n",
              "      <td>1</td>\n",
              "      <td>2006-06-27 00:11:00</td>\n",
              "      <td>[{'id': 7, 'name': 'Funny', 'count': 544}, {'i...</td>\n",
              "      <td>[{'id': 243, 'hero': 'https://pe.tedcdn.com/im...</td>\n",
              "      <td>Climate advocate</td>\n",
              "      <td>['alternative energy', 'cars', 'climate change...</td>\n",
              "      <td>Averting the climate crisis</td>\n",
              "      <td>https://www.ted.com/talks/al_gore_on_averting_...</td>\n",
              "      <td>3200520</td>\n",
              "    </tr>\n",
              "    <tr>\n",
              "      <th>2</th>\n",
              "      <td>124</td>\n",
              "      <td>New York Times columnist David Pogue takes aim...</td>\n",
              "      <td>1286</td>\n",
              "      <td>TED2006</td>\n",
              "      <td>2006-02-24</td>\n",
              "      <td>26</td>\n",
              "      <td>David Pogue</td>\n",
              "      <td>David Pogue: Simplicity sells</td>\n",
              "      <td>1</td>\n",
              "      <td>2006-06-27 00:11:00</td>\n",
              "      <td>[{'id': 7, 'name': 'Funny', 'count': 964}, {'i...</td>\n",
              "      <td>[{'id': 1725, 'hero': 'https://pe.tedcdn.com/i...</td>\n",
              "      <td>Technology columnist</td>\n",
              "      <td>['computers', 'entertainment', 'interface desi...</td>\n",
              "      <td>Simplicity sells</td>\n",
              "      <td>https://www.ted.com/talks/david_pogue_says_sim...</td>\n",
              "      <td>1636292</td>\n",
              "    </tr>\n",
              "    <tr>\n",
              "      <th>3</th>\n",
              "      <td>200</td>\n",
              "      <td>In an emotionally charged talk, MacArthur-winn...</td>\n",
              "      <td>1116</td>\n",
              "      <td>TED2006</td>\n",
              "      <td>2006-02-26</td>\n",
              "      <td>35</td>\n",
              "      <td>Majora Carter</td>\n",
              "      <td>Majora Carter: Greening the ghetto</td>\n",
              "      <td>1</td>\n",
              "      <td>2006-06-27 00:11:00</td>\n",
              "      <td>[{'id': 3, 'name': 'Courageous', 'count': 760}...</td>\n",
              "      <td>[{'id': 1041, 'hero': 'https://pe.tedcdn.com/i...</td>\n",
              "      <td>Activist for environmental justice</td>\n",
              "      <td>['MacArthur grant', 'activism', 'business', 'c...</td>\n",
              "      <td>Greening the ghetto</td>\n",
              "      <td>https://www.ted.com/talks/majora_carter_s_tale...</td>\n",
              "      <td>1697550</td>\n",
              "    </tr>\n",
              "    <tr>\n",
              "      <th>4</th>\n",
              "      <td>593</td>\n",
              "      <td>You've never seen data presented like this. Wi...</td>\n",
              "      <td>1190</td>\n",
              "      <td>TED2006</td>\n",
              "      <td>2006-02-22</td>\n",
              "      <td>48</td>\n",
              "      <td>Hans Rosling</td>\n",
              "      <td>Hans Rosling: The best stats you've ever seen</td>\n",
              "      <td>1</td>\n",
              "      <td>2006-06-27 20:38:00</td>\n",
              "      <td>[{'id': 9, 'name': 'Ingenious', 'count': 3202}...</td>\n",
              "      <td>[{'id': 2056, 'hero': 'https://pe.tedcdn.com/i...</td>\n",
              "      <td>Global health expert; data visionary</td>\n",
              "      <td>['Africa', 'Asia', 'Google', 'demo', 'economic...</td>\n",
              "      <td>The best stats you've ever seen</td>\n",
              "      <td>https://www.ted.com/talks/hans_rosling_shows_t...</td>\n",
              "      <td>12005869</td>\n",
              "    </tr>\n",
              "  </tbody>\n",
              "</table>\n",
              "</div>"
            ],
            "text/plain": [
              "   comments  ...     views\n",
              "0      4553  ...  47227110\n",
              "1       265  ...   3200520\n",
              "2       124  ...   1636292\n",
              "3       200  ...   1697550\n",
              "4       593  ...  12005869\n",
              "\n",
              "[5 rows x 17 columns]"
            ]
          },
          "metadata": {
            "tags": []
          },
          "execution_count": 5
        }
      ]
    },
    {
      "cell_type": "markdown",
      "metadata": {
        "id": "L5M-tAJ1hOHJ"
      },
      "source": [
        "**add a year column and a month column, extract them from the film date column**"
      ]
    },
    {
      "cell_type": "code",
      "metadata": {
        "colab": {
          "base_uri": "https://localhost:8080/"
        },
        "id": "IUoBDewz7nn0",
        "outputId": "66efb914-7e16-46ab-e46f-7ceb00d1415d"
      },
      "source": [
        "# film_date\n",
        "## date.year / date.month / date.day\n",
        "print(df['film_date'][0])\n",
        "print(df['film_date'][0].month)\n",
        "print(df['film_date'][0].year)\n"
      ],
      "execution_count": 6,
      "outputs": [
        {
          "output_type": "stream",
          "text": [
            "2006-02-25 00:00:00\n",
            "2\n",
            "2006\n"
          ],
          "name": "stdout"
        }
      ]
    },
    {
      "cell_type": "code",
      "metadata": {
        "id": "6uJ00-9kRj81"
      },
      "source": [
        "## your code here\n",
        "df[\"month\"] = df['film_date'].apply(lambda x : x.month)\n",
        "df[\"year\"] = df['film_date'].apply(lambda x : x.year)"
      ],
      "execution_count": 7,
      "outputs": []
    },
    {
      "cell_type": "code",
      "metadata": {
        "colab": {
          "base_uri": "https://localhost:8080/",
          "height": 301
        },
        "id": "iGhvcExzRj85",
        "outputId": "4021130c-7204-4688-844a-017b5250b399"
      },
      "source": [
        "df.head(2)"
      ],
      "execution_count": 8,
      "outputs": [
        {
          "output_type": "execute_result",
          "data": {
            "text/html": [
              "<div>\n",
              "<style scoped>\n",
              "    .dataframe tbody tr th:only-of-type {\n",
              "        vertical-align: middle;\n",
              "    }\n",
              "\n",
              "    .dataframe tbody tr th {\n",
              "        vertical-align: top;\n",
              "    }\n",
              "\n",
              "    .dataframe thead th {\n",
              "        text-align: right;\n",
              "    }\n",
              "</style>\n",
              "<table border=\"1\" class=\"dataframe\">\n",
              "  <thead>\n",
              "    <tr style=\"text-align: right;\">\n",
              "      <th></th>\n",
              "      <th>comments</th>\n",
              "      <th>description</th>\n",
              "      <th>duration</th>\n",
              "      <th>event</th>\n",
              "      <th>film_date</th>\n",
              "      <th>languages</th>\n",
              "      <th>main_speaker</th>\n",
              "      <th>name</th>\n",
              "      <th>num_speaker</th>\n",
              "      <th>published_date</th>\n",
              "      <th>ratings</th>\n",
              "      <th>related_talks</th>\n",
              "      <th>speaker_occupation</th>\n",
              "      <th>tags</th>\n",
              "      <th>title</th>\n",
              "      <th>url</th>\n",
              "      <th>views</th>\n",
              "      <th>month</th>\n",
              "      <th>year</th>\n",
              "    </tr>\n",
              "  </thead>\n",
              "  <tbody>\n",
              "    <tr>\n",
              "      <th>0</th>\n",
              "      <td>4553</td>\n",
              "      <td>Sir Ken Robinson makes an entertaining and pro...</td>\n",
              "      <td>1164</td>\n",
              "      <td>TED2006</td>\n",
              "      <td>2006-02-25</td>\n",
              "      <td>60</td>\n",
              "      <td>Ken Robinson</td>\n",
              "      <td>Ken Robinson: Do schools kill creativity?</td>\n",
              "      <td>1</td>\n",
              "      <td>2006-06-27 00:11:00</td>\n",
              "      <td>[{'id': 7, 'name': 'Funny', 'count': 19645}, {...</td>\n",
              "      <td>[{'id': 865, 'hero': 'https://pe.tedcdn.com/im...</td>\n",
              "      <td>Author/educator</td>\n",
              "      <td>['children', 'creativity', 'culture', 'dance',...</td>\n",
              "      <td>Do schools kill creativity?</td>\n",
              "      <td>https://www.ted.com/talks/ken_robinson_says_sc...</td>\n",
              "      <td>47227110</td>\n",
              "      <td>2</td>\n",
              "      <td>2006</td>\n",
              "    </tr>\n",
              "    <tr>\n",
              "      <th>1</th>\n",
              "      <td>265</td>\n",
              "      <td>With the same humor and humanity he exuded in ...</td>\n",
              "      <td>977</td>\n",
              "      <td>TED2006</td>\n",
              "      <td>2006-02-25</td>\n",
              "      <td>43</td>\n",
              "      <td>Al Gore</td>\n",
              "      <td>Al Gore: Averting the climate crisis</td>\n",
              "      <td>1</td>\n",
              "      <td>2006-06-27 00:11:00</td>\n",
              "      <td>[{'id': 7, 'name': 'Funny', 'count': 544}, {'i...</td>\n",
              "      <td>[{'id': 243, 'hero': 'https://pe.tedcdn.com/im...</td>\n",
              "      <td>Climate advocate</td>\n",
              "      <td>['alternative energy', 'cars', 'climate change...</td>\n",
              "      <td>Averting the climate crisis</td>\n",
              "      <td>https://www.ted.com/talks/al_gore_on_averting_...</td>\n",
              "      <td>3200520</td>\n",
              "      <td>2</td>\n",
              "      <td>2006</td>\n",
              "    </tr>\n",
              "  </tbody>\n",
              "</table>\n",
              "</div>"
            ],
            "text/plain": [
              "   comments                                        description  ...  month  year\n",
              "0      4553  Sir Ken Robinson makes an entertaining and pro...  ...      2  2006\n",
              "1       265  With the same humor and humanity he exuded in ...  ...      2  2006\n",
              "\n",
              "[2 rows x 19 columns]"
            ]
          },
          "metadata": {
            "tags": []
          },
          "execution_count": 8
        }
      ]
    },
    {
      "cell_type": "markdown",
      "metadata": {
        "id": "U5RHyuOo-H_C"
      },
      "source": [
        "# value counts\n",
        "\n",
        "```\n",
        "df['column_name'].value_counts()\n",
        "\n",
        "```\n",
        "**value_counts** : to count all the unique values in a column\n",
        "the output is a series, where the index is the column unique values\n",
        "and the main series is the counts\n"
      ]
    },
    {
      "cell_type": "markdown",
      "metadata": {
        "id": "-LMBfAxmhOHM"
      },
      "source": [
        "**plot the number of talks in each year, sorted from 1972 to 2017**"
      ]
    },
    {
      "cell_type": "code",
      "metadata": {
        "colab": {
          "base_uri": "https://localhost:8080/"
        },
        "id": "uEm_tYBwRj9G",
        "outputId": "edebcce4-779b-433d-dbb8-962ed50584c0"
      },
      "source": [
        "## your code here\n",
        "year = df[\"year\"].value_counts() \n",
        "year"
      ],
      "execution_count": 9,
      "outputs": [
        {
          "output_type": "execute_result",
          "data": {
            "text/plain": [
              "2013    270\n",
              "2011    270\n",
              "2010    267\n",
              "2012    267\n",
              "2016    246\n",
              "2015    239\n",
              "2014    237\n",
              "2009    232\n",
              "2007    114\n",
              "2017     98\n",
              "2008     84\n",
              "2005     66\n",
              "2006     50\n",
              "2003     33\n",
              "2004     33\n",
              "2002     27\n",
              "1998      6\n",
              "2001      5\n",
              "1983      1\n",
              "1991      1\n",
              "1994      1\n",
              "1990      1\n",
              "1984      1\n",
              "1972      1\n",
              "Name: year, dtype: int64"
            ]
          },
          "metadata": {
            "tags": []
          },
          "execution_count": 9
        }
      ]
    },
    {
      "cell_type": "code",
      "metadata": {
        "colab": {
          "base_uri": "https://localhost:8080/",
          "height": 298
        },
        "id": "JmxlB2y6BKKJ",
        "outputId": "35db6f01-ae71-4c8f-91fd-46efda8ec2ee"
      },
      "source": [
        "year = year.sort_index()\n",
        "year.plot.bar()"
      ],
      "execution_count": 10,
      "outputs": [
        {
          "output_type": "execute_result",
          "data": {
            "text/plain": [
              "<matplotlib.axes._subplots.AxesSubplot at 0x7f8a40f921d0>"
            ]
          },
          "metadata": {
            "tags": []
          },
          "execution_count": 10
        },
        {
          "output_type": "display_data",
          "data": {
            "image/png": "[encoded data removed]",
            "text/plain": [
              "<Figure size 432x288 with 1 Axes>"
            ]
          },
          "metadata": {
            "tags": [],
            "needs_background": "light"
          }
        }
      ]
    },
    {
      "cell_type": "code",
      "metadata": {
        "colab": {
          "base_uri": "https://localhost:8080/"
        },
        "id": "zp6CEUaMRj9N",
        "outputId": "6741002d-d89e-45b6-93ab-45a7dffa3d33"
      },
      "source": [
        "year"
      ],
      "execution_count": 11,
      "outputs": [
        {
          "output_type": "execute_result",
          "data": {
            "text/plain": [
              "1972      1\n",
              "1983      1\n",
              "1984      1\n",
              "1990      1\n",
              "1991      1\n",
              "1994      1\n",
              "1998      6\n",
              "2001      5\n",
              "2002     27\n",
              "2003     33\n",
              "2004     33\n",
              "2005     66\n",
              "2006     50\n",
              "2007    114\n",
              "2008     84\n",
              "2009    232\n",
              "2010    267\n",
              "2011    270\n",
              "2012    267\n",
              "2013    270\n",
              "2014    237\n",
              "2015    239\n",
              "2016    246\n",
              "2017     98\n",
              "Name: year, dtype: int64"
            ]
          },
          "metadata": {
            "tags": []
          },
          "execution_count": 11
        }
      ]
    },
    {
      "cell_type": "markdown",
      "metadata": {
        "id": "Qj4kbprihOHO"
      },
      "source": [
        "**plot the heighest ten occupations of the speakers**"
      ]
    },
    {
      "cell_type": "code",
      "metadata": {
        "colab": {
          "base_uri": "https://localhost:8080/"
        },
        "id": "MF3__XOWhOHO",
        "outputId": "01c07a4e-b085-46d2-c931-d42a16aa47b7"
      },
      "source": [
        "## your code here\n",
        "occupation = df['speaker_occupation'].value_counts()\n",
        "occupation"
      ],
      "execution_count": 12,
      "outputs": [
        {
          "output_type": "execute_result",
          "data": {
            "text/plain": [
              "Writer                                      45\n",
              "Designer                                    34\n",
              "Artist                                      34\n",
              "Journalist                                  33\n",
              "Entrepreneur                                31\n",
              "                                            ..\n",
              "Global health and development specialist     1\n",
              "Interaction designer; software developer     1\n",
              "Author, publisher, education activist        1\n",
              "Neuroscience and cancer researcher           1\n",
              "Engineer and origamist                       1\n",
              "Name: speaker_occupation, Length: 1458, dtype: int64"
            ]
          },
          "metadata": {
            "tags": []
          },
          "execution_count": 12
        }
      ]
    },
    {
      "cell_type": "code",
      "metadata": {
        "colab": {
          "base_uri": "https://localhost:8080/"
        },
        "id": "QuLWFNBbRj9R",
        "outputId": "b758421d-3e28-40ef-b220-7f5ed145c99d"
      },
      "source": [
        "occupation[:10]"
      ],
      "execution_count": 13,
      "outputs": [
        {
          "output_type": "execute_result",
          "data": {
            "text/plain": [
              "Writer          45\n",
              "Designer        34\n",
              "Artist          34\n",
              "Journalist      33\n",
              "Entrepreneur    31\n",
              "Architect       30\n",
              "Inventor        27\n",
              "Psychologist    26\n",
              "Photographer    25\n",
              "Filmmaker       21\n",
              "Name: speaker_occupation, dtype: int64"
            ]
          },
          "metadata": {
            "tags": []
          },
          "execution_count": 13
        }
      ]
    },
    {
      "cell_type": "code",
      "metadata": {
        "colab": {
          "base_uri": "https://localhost:8080/",
          "height": 323
        },
        "id": "WH-VWKZMRj9V",
        "outputId": "d3439368-2260-4213-82b3-91fae27afbcc"
      },
      "source": [
        "## the heighest ten occupations of the speakers\n",
        "occupation[:10].plot.bar();"
      ],
      "execution_count": 14,
      "outputs": [
        {
          "output_type": "display_data",
          "data": {
            "image/png": "[encoded data removed]",
            "text/plain": [
              "<Figure size 432x288 with 1 Axes>"
            ]
          },
          "metadata": {
            "tags": [],
            "needs_background": "light"
          }
        }
      ]
    },
    {
      "cell_type": "markdown",
      "metadata": {
        "id": "UamoLfb8hOHP"
      },
      "source": [
        "**plot the number of talks in each month through all the years**"
      ]
    },
    {
      "cell_type": "code",
      "metadata": {
        "id": "P1jD_NI-hOHQ"
      },
      "source": [
        "## your code here"
      ],
      "execution_count": 15,
      "outputs": []
    },
    {
      "cell_type": "code",
      "metadata": {
        "id": "t0vzITC9hOHQ"
      },
      "source": [
        "months = df[\"month\"].value_counts()"
      ],
      "execution_count": 16,
      "outputs": []
    },
    {
      "cell_type": "code",
      "metadata": {
        "colab": {
          "base_uri": "https://localhost:8080/",
          "height": 268
        },
        "id": "wYSxaZkXRj9a",
        "outputId": "62921dcb-59f0-4ebc-e4b2-8504167bc074"
      },
      "source": [
        "months = months.sort_index()\n",
        "months.plot.bar();"
      ],
      "execution_count": 17,
      "outputs": [
        {
          "output_type": "display_data",
          "data": {
            "image/png": "[encoded data removed]",
            "text/plain": [
              "<Figure size 432x288 with 1 Axes>"
            ]
          },
          "metadata": {
            "tags": [],
            "needs_background": "light"
          }
        }
      ]
    },
    {
      "cell_type": "code",
      "metadata": {
        "colab": {
          "base_uri": "https://localhost:8080/"
        },
        "id": "UYqxFXL4Rj9e",
        "outputId": "959cc73f-2cdd-476d-eac3-6940af224069"
      },
      "source": [
        "months"
      ],
      "execution_count": 18,
      "outputs": [
        {
          "output_type": "execute_result",
          "data": {
            "text/plain": [
              "1      33\n",
              "2     601\n",
              "3     397\n",
              "4     173\n",
              "5     123\n",
              "6     270\n",
              "7     253\n",
              "8      30\n",
              "9     107\n",
              "10    208\n",
              "11    232\n",
              "12    123\n",
              "Name: month, dtype: int64"
            ]
          },
          "metadata": {
            "tags": []
          },
          "execution_count": 18
        }
      ]
    },
    {
      "cell_type": "markdown",
      "metadata": {
        "id": "T6CCN0qXhOHT"
      },
      "source": [
        "**plot the number of published talks in each month**\n",
        "\n",
        "*get the month of the published date*"
      ]
    },
    {
      "cell_type": "code",
      "metadata": {
        "id": "9zg3vWzyRj9t"
      },
      "source": [
        "df[\"month_P\"] = df['published_date'].apply(lambda x : x.month)"
      ],
      "execution_count": 20,
      "outputs": []
    },
    {
      "cell_type": "code",
      "metadata": {
        "colab": {
          "base_uri": "https://localhost:8080/",
          "height": 598
        },
        "id": "-zs9ABOLRj91",
        "outputId": "a4c94192-f48d-462f-b811-f05e3057682a"
      },
      "source": [
        "df.head()"
      ],
      "execution_count": 42,
      "outputs": [
        {
          "output_type": "execute_result",
          "data": {
            "text/html": [
              "<div>\n",
              "<style scoped>\n",
              "    .dataframe tbody tr th:only-of-type {\n",
              "        vertical-align: middle;\n",
              "    }\n",
              "\n",
              "    .dataframe tbody tr th {\n",
              "        vertical-align: top;\n",
              "    }\n",
              "\n",
              "    .dataframe thead th {\n",
              "        text-align: right;\n",
              "    }\n",
              "</style>\n",
              "<table border=\"1\" class=\"dataframe\">\n",
              "  <thead>\n",
              "    <tr style=\"text-align: right;\">\n",
              "      <th></th>\n",
              "      <th>comments</th>\n",
              "      <th>description</th>\n",
              "      <th>duration</th>\n",
              "      <th>event</th>\n",
              "      <th>film_date</th>\n",
              "      <th>languages</th>\n",
              "      <th>main_speaker</th>\n",
              "      <th>name</th>\n",
              "      <th>num_speaker</th>\n",
              "      <th>published_date</th>\n",
              "      <th>ratings</th>\n",
              "      <th>related_talks</th>\n",
              "      <th>speaker_occupation</th>\n",
              "      <th>tags</th>\n",
              "      <th>title</th>\n",
              "      <th>url</th>\n",
              "      <th>views</th>\n",
              "      <th>month</th>\n",
              "      <th>year</th>\n",
              "      <th>month_P</th>\n",
              "      <th>Funny</th>\n",
              "    </tr>\n",
              "  </thead>\n",
              "  <tbody>\n",
              "    <tr>\n",
              "      <th>0</th>\n",
              "      <td>4553</td>\n",
              "      <td>Sir Ken Robinson makes an entertaining and pro...</td>\n",
              "      <td>1164</td>\n",
              "      <td>TED2006</td>\n",
              "      <td>2006-02-25</td>\n",
              "      <td>60</td>\n",
              "      <td>Ken Robinson</td>\n",
              "      <td>Ken Robinson: Do schools kill creativity?</td>\n",
              "      <td>1</td>\n",
              "      <td>2006-06-27 00:11:00</td>\n",
              "      <td>[{'id': 7, 'name': 'Funny', 'count': 19645}, {...</td>\n",
              "      <td>[{'id': 865, 'hero': 'https://pe.tedcdn.com/im...</td>\n",
              "      <td>Author/educator</td>\n",
              "      <td>[children, creativity, culture, dance, educati...</td>\n",
              "      <td>Do schools kill creativity?</td>\n",
              "      <td>https://www.ted.com/talks/ken_robinson_says_sc...</td>\n",
              "      <td>47227110</td>\n",
              "      <td>2</td>\n",
              "      <td>2006</td>\n",
              "      <td>6</td>\n",
              "      <td>19645</td>\n",
              "    </tr>\n",
              "    <tr>\n",
              "      <th>1</th>\n",
              "      <td>265</td>\n",
              "      <td>With the same humor and humanity he exuded in ...</td>\n",
              "      <td>977</td>\n",
              "      <td>TED2006</td>\n",
              "      <td>2006-02-25</td>\n",
              "      <td>43</td>\n",
              "      <td>Al Gore</td>\n",
              "      <td>Al Gore: Averting the climate crisis</td>\n",
              "      <td>1</td>\n",
              "      <td>2006-06-27 00:11:00</td>\n",
              "      <td>[{'id': 7, 'name': 'Funny', 'count': 544}, {'i...</td>\n",
              "      <td>[{'id': 243, 'hero': 'https://pe.tedcdn.com/im...</td>\n",
              "      <td>Climate advocate</td>\n",
              "      <td>[alternative energy, cars, climate change, cul...</td>\n",
              "      <td>Averting the climate crisis</td>\n",
              "      <td>https://www.ted.com/talks/al_gore_on_averting_...</td>\n",
              "      <td>3200520</td>\n",
              "      <td>2</td>\n",
              "      <td>2006</td>\n",
              "      <td>6</td>\n",
              "      <td>544</td>\n",
              "    </tr>\n",
              "    <tr>\n",
              "      <th>2</th>\n",
              "      <td>124</td>\n",
              "      <td>New York Times columnist David Pogue takes aim...</td>\n",
              "      <td>1286</td>\n",
              "      <td>TED2006</td>\n",
              "      <td>2006-02-24</td>\n",
              "      <td>26</td>\n",
              "      <td>David Pogue</td>\n",
              "      <td>David Pogue: Simplicity sells</td>\n",
              "      <td>1</td>\n",
              "      <td>2006-06-27 00:11:00</td>\n",
              "      <td>[{'id': 7, 'name': 'Funny', 'count': 964}, {'i...</td>\n",
              "      <td>[{'id': 1725, 'hero': 'https://pe.tedcdn.com/i...</td>\n",
              "      <td>Technology columnist</td>\n",
              "      <td>[computers, entertainment, interface design, m...</td>\n",
              "      <td>Simplicity sells</td>\n",
              "      <td>https://www.ted.com/talks/david_pogue_says_sim...</td>\n",
              "      <td>1636292</td>\n",
              "      <td>2</td>\n",
              "      <td>2006</td>\n",
              "      <td>6</td>\n",
              "      <td>964</td>\n",
              "    </tr>\n",
              "    <tr>\n",
              "      <th>3</th>\n",
              "      <td>200</td>\n",
              "      <td>In an emotionally charged talk, MacArthur-winn...</td>\n",
              "      <td>1116</td>\n",
              "      <td>TED2006</td>\n",
              "      <td>2006-02-26</td>\n",
              "      <td>35</td>\n",
              "      <td>Majora Carter</td>\n",
              "      <td>Majora Carter: Greening the ghetto</td>\n",
              "      <td>1</td>\n",
              "      <td>2006-06-27 00:11:00</td>\n",
              "      <td>[{'id': 3, 'name': 'Courageous', 'count': 760}...</td>\n",
              "      <td>[{'id': 1041, 'hero': 'https://pe.tedcdn.com/i...</td>\n",
              "      <td>Activist for environmental justice</td>\n",
              "      <td>[MacArthur grant, activism, business, cities, ...</td>\n",
              "      <td>Greening the ghetto</td>\n",
              "      <td>https://www.ted.com/talks/majora_carter_s_tale...</td>\n",
              "      <td>1697550</td>\n",
              "      <td>2</td>\n",
              "      <td>2006</td>\n",
              "      <td>6</td>\n",
              "      <td>760</td>\n",
              "    </tr>\n",
              "    <tr>\n",
              "      <th>4</th>\n",
              "      <td>593</td>\n",
              "      <td>You've never seen data presented like this. Wi...</td>\n",
              "      <td>1190</td>\n",
              "      <td>TED2006</td>\n",
              "      <td>2006-02-22</td>\n",
              "      <td>48</td>\n",
              "      <td>Hans Rosling</td>\n",
              "      <td>Hans Rosling: The best stats you've ever seen</td>\n",
              "      <td>1</td>\n",
              "      <td>2006-06-27 20:38:00</td>\n",
              "      <td>[{'id': 9, 'name': 'Ingenious', 'count': 3202}...</td>\n",
              "      <td>[{'id': 2056, 'hero': 'https://pe.tedcdn.com/i...</td>\n",
              "      <td>Global health expert; data visionary</td>\n",
              "      <td>[Africa, Asia, Google, demo, economics, global...</td>\n",
              "      <td>The best stats you've ever seen</td>\n",
              "      <td>https://www.ted.com/talks/hans_rosling_shows_t...</td>\n",
              "      <td>12005869</td>\n",
              "      <td>2</td>\n",
              "      <td>2006</td>\n",
              "      <td>6</td>\n",
              "      <td>3202</td>\n",
              "    </tr>\n",
              "  </tbody>\n",
              "</table>\n",
              "</div>"
            ],
            "text/plain": [
              "   comments                                        description  ...  month_P  Funny\n",
              "0      4553  Sir Ken Robinson makes an entertaining and pro...  ...        6  19645\n",
              "1       265  With the same humor and humanity he exuded in ...  ...        6    544\n",
              "2       124  New York Times columnist David Pogue takes aim...  ...        6    964\n",
              "3       200  In an emotionally charged talk, MacArthur-winn...  ...        6    760\n",
              "4       593  You've never seen data presented like this. Wi...  ...        6   3202\n",
              "\n",
              "[5 rows x 21 columns]"
            ]
          },
          "metadata": {
            "tags": []
          },
          "execution_count": 42
        }
      ]
    },
    {
      "cell_type": "code",
      "metadata": {
        "colab": {
          "base_uri": "https://localhost:8080/",
          "height": 268
        },
        "id": "k-D3e_w6-8J3",
        "outputId": "e442dc23-2b39-4ed9-d1b5-bea4fa423b58"
      },
      "source": [
        "months = df[\"month_P\"].value_counts().sort_index().plot.bar();"
      ],
      "execution_count": 44,
      "outputs": [
        {
          "output_type": "display_data",
          "data": {
            "image/png": "[encoded data removed]",
            "text/plain": [
              "<Figure size 432x288 with 1 Axes>"
            ]
          },
          "metadata": {
            "tags": [],
            "needs_background": "light"
          }
        }
      ]
    },
    {
      "cell_type": "code",
      "metadata": {
        "colab": {
          "base_uri": "https://localhost:8080/"
        },
        "id": "bUb8eLCqRj95",
        "outputId": "994a3a59-c412-43e1-eb40-c14bb7c22eff"
      },
      "source": [
        "nums = df['num_speaker'].value_counts()\n",
        "nums"
      ],
      "execution_count": 45,
      "outputs": [
        {
          "output_type": "execute_result",
          "data": {
            "text/plain": [
              "1    2492\n",
              "2      49\n",
              "3       5\n",
              "4       3\n",
              "5       1\n",
              "Name: num_speaker, dtype: int64"
            ]
          },
          "metadata": {
            "tags": []
          },
          "execution_count": 45
        }
      ]
    },
    {
      "cell_type": "markdown",
      "metadata": {
        "id": "TeZal5pZhOHU"
      },
      "source": [
        "**get the top 10 most appeared speakers in the talks**"
      ]
    },
    {
      "cell_type": "code",
      "metadata": {
        "colab": {
          "base_uri": "https://localhost:8080/",
          "height": 378
        },
        "id": "w5dpdgeYRj99",
        "outputId": "2951f6f1-d8b8-47cf-c979-3fc768c0a8f1"
      },
      "source": [
        "df[\"main_speaker\"].value_counts()[:10].plot.bar()"
      ],
      "execution_count": 22,
      "outputs": [
        {
          "output_type": "execute_result",
          "data": {
            "text/plain": [
              "<matplotlib.axes._subplots.AxesSubplot at 0x7f8a46d9e410>"
            ]
          },
          "metadata": {
            "tags": []
          },
          "execution_count": 22
        },
        {
          "output_type": "display_data",
          "data": {
            "image/png": "[encoded data removed]",
            "text/plain": [
              "<Figure size 432x288 with 1 Axes>"
            ]
          },
          "metadata": {
            "tags": [],
            "needs_background": "light"
          }
        }
      ]
    },
    {
      "cell_type": "markdown",
      "metadata": {
        "id": "byo6PoXFhOHV"
      },
      "source": [
        "**scatter plot the number of languages vs the number of views and comment on the results**"
      ]
    },
    {
      "cell_type": "code",
      "metadata": {
        "colab": {
          "base_uri": "https://localhost:8080/",
          "height": 290
        },
        "id": "l4ZdE6l5Rj-A",
        "outputId": "f75d54b2-c8ea-4353-cc89-6ff20174e5a1"
      },
      "source": [
        "df.plot.scatter(x = 'languages', y = 'views');"
      ],
      "execution_count": 23,
      "outputs": [
        {
          "output_type": "display_data",
          "data": {
            "image/png": "[encoded data removed]",
            "text/plain": [
              "<Figure size 432x288 with 1 Axes>"
            ]
          },
          "metadata": {
            "tags": [],
            "needs_background": "light"
          }
        }
      ]
    },
    {
      "cell_type": "markdown",
      "metadata": {
        "id": "5r-Z1jo2hOHV"
      },
      "source": [
        "**scatter plot the duration vs the number of views and comment on the results**"
      ]
    },
    {
      "cell_type": "code",
      "metadata": {
        "colab": {
          "base_uri": "https://localhost:8080/",
          "height": 279
        },
        "id": "nuAZLCSxLsQI",
        "outputId": "588d2b0e-0d0f-4815-90a2-0207756fee60"
      },
      "source": [
        "df.plot.scatter(x = 'languages', y = 'comments');\n"
      ],
      "execution_count": 24,
      "outputs": [
        {
          "output_type": "display_data",
          "data": {
            "image/png": "[encoded data removed]",
            "text/plain": [
              "<Figure size 432x288 with 1 Axes>"
            ]
          },
          "metadata": {
            "tags": [],
            "needs_background": "light"
          }
        }
      ]
    },
    {
      "cell_type": "code",
      "metadata": {
        "colab": {
          "base_uri": "https://localhost:8080/",
          "height": 290
        },
        "id": "G4eo8FWJk_GN",
        "outputId": "e42576f5-5bb2-43b3-b2b7-17ad62372af8"
      },
      "source": [
        "df.plot.scatter(x = 'duration', y = 'views');"
      ],
      "execution_count": 25,
      "outputs": [
        {
          "output_type": "display_data",
          "data": {
            "image/png": "[encoded data removed]",
            "text/plain": [
              "<Figure size 432x288 with 1 Axes>"
            ]
          },
          "metadata": {
            "tags": [],
            "needs_background": "light"
          }
        }
      ]
    },
    {
      "cell_type": "code",
      "metadata": {
        "colab": {
          "base_uri": "https://localhost:8080/",
          "height": 279
        },
        "id": "EiS9-whKk43M",
        "outputId": "5bb3a9d9-316c-4024-cb41-c71fbc444641"
      },
      "source": [
        "df.plot.scatter(x = 'duration', y = 'comments');"
      ],
      "execution_count": 26,
      "outputs": [
        {
          "output_type": "display_data",
          "data": {
            "image/png": "[encoded data removed]",
            "text/plain": [
              "<Figure size 432x288 with 1 Axes>"
            ]
          },
          "metadata": {
            "tags": [],
            "needs_background": "light"
          }
        }
      ]
    },
    {
      "cell_type": "markdown",
      "metadata": {
        "id": "Z11UIS5Thf1b"
      },
      "source": [
        "# Ratings"
      ]
    },
    {
      "cell_type": "markdown",
      "metadata": {
        "id": "0-YUjCnMAubA"
      },
      "source": [
        "\n",
        "\n",
        "```\n",
        "import ast\n",
        "ast.literal_eval()\n",
        "```\n",
        "\n"
      ]
    },
    {
      "cell_type": "code",
      "metadata": {
        "colab": {
          "base_uri": "https://localhost:8080/",
          "height": 86
        },
        "id": "6YgZ76RnRj-N",
        "outputId": "1c73f513-5b3d-490f-f51c-455b90e0f00b"
      },
      "source": [
        "f = df['ratings'][0]\n",
        "f"
      ],
      "execution_count": 27,
      "outputs": [
        {
          "output_type": "execute_result",
          "data": {
            "application/vnd.google.colaboratory.intrinsic+json": {
              "type": "string"
            },
            "text/plain": [
              "\"[{'id': 7, 'name': 'Funny', 'count': 19645}, {'id': 1, 'name': 'Beautiful', 'count': 4573}, {'id': 9, 'name': 'Ingenious', 'count': 6073}, {'id': 3, 'name': 'Courageous', 'count': 3253}, {'id': 11, 'name': 'Longwinded', 'count': 387}, {'id': 2, 'name': 'Confusing', 'count': 242}, {'id': 8, 'name': 'Informative', 'count': 7346}, {'id': 22, 'name': 'Fascinating', 'count': 10581}, {'id': 21, 'name': 'Unconvincing', 'count': 300}, {'id': 24, 'name': 'Persuasive', 'count': 10704}, {'id': 23, 'name': 'Jaw-dropping', 'count': 4439}, {'id': 25, 'name': 'OK', 'count': 1174}, {'id': 26, 'name': 'Obnoxious', 'count': 209}, {'id': 10, 'name': 'Inspiring', 'count': 24924}]\""
            ]
          },
          "metadata": {
            "tags": []
          },
          "execution_count": 27
        }
      ]
    },
    {
      "cell_type": "code",
      "metadata": {
        "colab": {
          "base_uri": "https://localhost:8080/"
        },
        "id": "MTuVrw4VRj-V",
        "outputId": "c5ed1b9a-fcae-4fd8-b2a9-0102cc673176"
      },
      "source": [
        "type(f)"
      ],
      "execution_count": 28,
      "outputs": [
        {
          "output_type": "execute_result",
          "data": {
            "text/plain": [
              "str"
            ]
          },
          "metadata": {
            "tags": []
          },
          "execution_count": 28
        }
      ]
    },
    {
      "cell_type": "code",
      "metadata": {
        "colab": {
          "base_uri": "https://localhost:8080/"
        },
        "id": "XHVASCqeRj-b",
        "outputId": "a21b2769-0f08-417b-cca4-eede0c2f9d5c"
      },
      "source": [
        "import ast\n",
        "f = ast.literal_eval(f)\n",
        "f"
      ],
      "execution_count": 29,
      "outputs": [
        {
          "output_type": "execute_result",
          "data": {
            "text/plain": [
              "[{'count': 19645, 'id': 7, 'name': 'Funny'},\n",
              " {'count': 4573, 'id': 1, 'name': 'Beautiful'},\n",
              " {'count': 6073, 'id': 9, 'name': 'Ingenious'},\n",
              " {'count': 3253, 'id': 3, 'name': 'Courageous'},\n",
              " {'count': 387, 'id': 11, 'name': 'Longwinded'},\n",
              " {'count': 242, 'id': 2, 'name': 'Confusing'},\n",
              " {'count': 7346, 'id': 8, 'name': 'Informative'},\n",
              " {'count': 10581, 'id': 22, 'name': 'Fascinating'},\n",
              " {'count': 300, 'id': 21, 'name': 'Unconvincing'},\n",
              " {'count': 10704, 'id': 24, 'name': 'Persuasive'},\n",
              " {'count': 4439, 'id': 23, 'name': 'Jaw-dropping'},\n",
              " {'count': 1174, 'id': 25, 'name': 'OK'},\n",
              " {'count': 209, 'id': 26, 'name': 'Obnoxious'},\n",
              " {'count': 24924, 'id': 10, 'name': 'Inspiring'}]"
            ]
          },
          "metadata": {
            "tags": []
          },
          "execution_count": 29
        }
      ]
    },
    {
      "cell_type": "code",
      "metadata": {
        "colab": {
          "base_uri": "https://localhost:8080/"
        },
        "id": "j-glr1ndRj-i",
        "outputId": "814bfdea-435f-4c4f-b94f-b715e587a975"
      },
      "source": [
        "type(f)"
      ],
      "execution_count": 30,
      "outputs": [
        {
          "output_type": "execute_result",
          "data": {
            "text/plain": [
              "list"
            ]
          },
          "metadata": {
            "tags": []
          },
          "execution_count": 30
        }
      ]
    },
    {
      "cell_type": "code",
      "metadata": {
        "colab": {
          "base_uri": "https://localhost:8080/"
        },
        "id": "loUprSsERj-o",
        "outputId": "e5dd6182-35e8-4f64-8703-94b3f70993ed"
      },
      "source": [
        "f['name' == 'Funny']['count']"
      ],
      "execution_count": 31,
      "outputs": [
        {
          "output_type": "execute_result",
          "data": {
            "text/plain": [
              "19645"
            ]
          },
          "metadata": {
            "tags": []
          },
          "execution_count": 31
        }
      ]
    },
    {
      "cell_type": "markdown",
      "metadata": {
        "id": "w7P8QP_jhOHY"
      },
      "source": [
        "**apply literal_eval on ratings column to convert it from string to dictionary, then get the count of the funny ratings in each talk in a new column and name it 'Funny'**"
      ]
    },
    {
      "cell_type": "code",
      "metadata": {
        "id": "aIxcZgkQRj-u"
      },
      "source": [
        "##your code here\n",
        "df['ratings'] = df['ratings'].apply(ast.literal_eval)"
      ],
      "execution_count": 32,
      "outputs": []
    },
    {
      "cell_type": "code",
      "metadata": {
        "id": "zmWdLu-VmRjV"
      },
      "source": [
        "df[\"Funny\"] = df[\"ratings\"].apply(lambda x : x['name' == 'funny']['count'])"
      ],
      "execution_count": 33,
      "outputs": []
    },
    {
      "cell_type": "markdown",
      "metadata": {
        "id": "okuzV-7khOHY"
      },
      "source": [
        "**the top 3 funny talks**"
      ]
    },
    {
      "cell_type": "code",
      "metadata": {
        "colab": {
          "base_uri": "https://localhost:8080/",
          "height": 383
        },
        "id": "uOFIjG59Rj-3",
        "outputId": "61149f6f-c832-4c31-b35b-a3405b464bd9"
      },
      "source": [
        "df.sort_values('Funny', ascending = False).head(3)"
      ],
      "execution_count": 34,
      "outputs": [
        {
          "output_type": "execute_result",
          "data": {
            "text/html": [
              "<div>\n",
              "<style scoped>\n",
              "    .dataframe tbody tr th:only-of-type {\n",
              "        vertical-align: middle;\n",
              "    }\n",
              "\n",
              "    .dataframe tbody tr th {\n",
              "        vertical-align: top;\n",
              "    }\n",
              "\n",
              "    .dataframe thead th {\n",
              "        text-align: right;\n",
              "    }\n",
              "</style>\n",
              "<table border=\"1\" class=\"dataframe\">\n",
              "  <thead>\n",
              "    <tr style=\"text-align: right;\">\n",
              "      <th></th>\n",
              "      <th>comments</th>\n",
              "      <th>description</th>\n",
              "      <th>duration</th>\n",
              "      <th>event</th>\n",
              "      <th>film_date</th>\n",
              "      <th>languages</th>\n",
              "      <th>main_speaker</th>\n",
              "      <th>name</th>\n",
              "      <th>num_speaker</th>\n",
              "      <th>published_date</th>\n",
              "      <th>ratings</th>\n",
              "      <th>related_talks</th>\n",
              "      <th>speaker_occupation</th>\n",
              "      <th>tags</th>\n",
              "      <th>title</th>\n",
              "      <th>url</th>\n",
              "      <th>views</th>\n",
              "      <th>month</th>\n",
              "      <th>year</th>\n",
              "      <th>month_P</th>\n",
              "      <th>Funny</th>\n",
              "    </tr>\n",
              "  </thead>\n",
              "  <tbody>\n",
              "    <tr>\n",
              "      <th>837</th>\n",
              "      <td>1927</td>\n",
              "      <td>Brené Brown studies human connection -- our ab...</td>\n",
              "      <td>1219</td>\n",
              "      <td>TEDxHouston</td>\n",
              "      <td>2010-06-06</td>\n",
              "      <td>52</td>\n",
              "      <td>Brené Brown</td>\n",
              "      <td>Brené Brown: The power of vulnerability</td>\n",
              "      <td>1</td>\n",
              "      <td>2010-12-23 14:45:00</td>\n",
              "      <td>[{'id': 10, 'name': 'Inspiring', 'count': 2144...</td>\n",
              "      <td>[{'id': 1391, 'hero': 'https://pe.tedcdn.com/i...</td>\n",
              "      <td>Vulnerability researcher</td>\n",
              "      <td>['TEDx', 'communication', 'culture', 'depressi...</td>\n",
              "      <td>The power of vulnerability</td>\n",
              "      <td>https://www.ted.com/talks/brene_brown_on_vulne...</td>\n",
              "      <td>31168150</td>\n",
              "      <td>6</td>\n",
              "      <td>2010</td>\n",
              "      <td>12</td>\n",
              "      <td>21444</td>\n",
              "    </tr>\n",
              "    <tr>\n",
              "      <th>0</th>\n",
              "      <td>4553</td>\n",
              "      <td>Sir Ken Robinson makes an entertaining and pro...</td>\n",
              "      <td>1164</td>\n",
              "      <td>TED2006</td>\n",
              "      <td>2006-02-25</td>\n",
              "      <td>60</td>\n",
              "      <td>Ken Robinson</td>\n",
              "      <td>Ken Robinson: Do schools kill creativity?</td>\n",
              "      <td>1</td>\n",
              "      <td>2006-06-27 00:11:00</td>\n",
              "      <td>[{'id': 7, 'name': 'Funny', 'count': 19645}, {...</td>\n",
              "      <td>[{'id': 865, 'hero': 'https://pe.tedcdn.com/im...</td>\n",
              "      <td>Author/educator</td>\n",
              "      <td>['children', 'creativity', 'culture', 'dance',...</td>\n",
              "      <td>Do schools kill creativity?</td>\n",
              "      <td>https://www.ted.com/talks/ken_robinson_says_sc...</td>\n",
              "      <td>47227110</td>\n",
              "      <td>2</td>\n",
              "      <td>2006</td>\n",
              "      <td>6</td>\n",
              "      <td>19645</td>\n",
              "    </tr>\n",
              "    <tr>\n",
              "      <th>1030</th>\n",
              "      <td>1627</td>\n",
              "      <td>At his Stanford University commencement speech...</td>\n",
              "      <td>904</td>\n",
              "      <td>Stanford University</td>\n",
              "      <td>2005-06-12</td>\n",
              "      <td>0</td>\n",
              "      <td>Steve Jobs</td>\n",
              "      <td>Steve Jobs: How to live before you die</td>\n",
              "      <td>1</td>\n",
              "      <td>2011-10-06 02:42:00</td>\n",
              "      <td>[{'id': 10, 'name': 'Inspiring', 'count': 1729...</td>\n",
              "      <td>[{'id': 848, 'hero': 'https://pe.tedcdn.com/im...</td>\n",
              "      <td>Visionary</td>\n",
              "      <td>['business', 'computers', 'creativity', 'death...</td>\n",
              "      <td>How to live before you die</td>\n",
              "      <td>https://www.ted.com/talks/steve_jobs_how_to_li...</td>\n",
              "      <td>8744428</td>\n",
              "      <td>6</td>\n",
              "      <td>2005</td>\n",
              "      <td>10</td>\n",
              "      <td>17290</td>\n",
              "    </tr>\n",
              "  </tbody>\n",
              "</table>\n",
              "</div>"
            ],
            "text/plain": [
              "      comments  ...  Funny\n",
              "837       1927  ...  21444\n",
              "0         4553  ...  19645\n",
              "1030      1627  ...  17290\n",
              "\n",
              "[3 rows x 21 columns]"
            ]
          },
          "metadata": {
            "tags": []
          },
          "execution_count": 34
        }
      ]
    },
    {
      "cell_type": "markdown",
      "metadata": {
        "id": "mWpA1y9DhOHZ"
      },
      "source": [
        "**scatter plot the Funny ratings count vs the number of views and comment on the results**"
      ]
    },
    {
      "cell_type": "code",
      "metadata": {
        "colab": {
          "base_uri": "https://localhost:8080/",
          "height": 290
        },
        "id": "MwgXEYM6Rj-6",
        "outputId": "ba1e10c2-8593-44f0-ae4b-373be8945b7d"
      },
      "source": [
        "df.plot.scatter(x = 'Funny',y = 'views');"
      ],
      "execution_count": 35,
      "outputs": [
        {
          "output_type": "display_data",
          "data": {
            "image/png": "[encoded data removed]",
            "text/plain": [
              "<Figure size 432x288 with 1 Axes>"
            ]
          },
          "metadata": {
            "tags": [],
            "needs_background": "light"
          }
        }
      ]
    },
    {
      "cell_type": "markdown",
      "metadata": {
        "id": "cqHwDkur9xHS"
      },
      "source": [
        "# Tags"
      ]
    },
    {
      "cell_type": "markdown",
      "metadata": {
        "id": "Me5MVym8hOHa"
      },
      "source": [
        "**apply literal_eval on the tags column ang get the top 10 tags**"
      ]
    },
    {
      "cell_type": "code",
      "metadata": {
        "colab": {
          "base_uri": "https://localhost:8080/",
          "height": 35
        },
        "id": "_fDJDvnYhOHa",
        "outputId": "d7938bdb-9c46-4e69-a426-0bf713b49b9c"
      },
      "source": [
        "df['tags'][0]"
      ],
      "execution_count": 36,
      "outputs": [
        {
          "output_type": "execute_result",
          "data": {
            "application/vnd.google.colaboratory.intrinsic+json": {
              "type": "string"
            },
            "text/plain": [
              "\"['children', 'creativity', 'culture', 'dance', 'education', 'parenting', 'teaching']\""
            ]
          },
          "metadata": {
            "tags": []
          },
          "execution_count": 36
        }
      ]
    },
    {
      "cell_type": "code",
      "metadata": {
        "colab": {
          "base_uri": "https://localhost:8080/"
        },
        "id": "-bztNMEmRj_L",
        "outputId": "d3b8fcb3-4a33-4861-caf7-18d5f9e1899e"
      },
      "source": [
        "df['tags'] = df['tags'].apply(ast.literal_eval)\n",
        "df['tags'][:3]"
      ],
      "execution_count": 37,
      "outputs": [
        {
          "output_type": "execute_result",
          "data": {
            "text/plain": [
              "0    [children, creativity, culture, dance, educati...\n",
              "1    [alternative energy, cars, climate change, cul...\n",
              "2    [computers, entertainment, interface design, m...\n",
              "Name: tags, dtype: object"
            ]
          },
          "metadata": {
            "tags": []
          },
          "execution_count": 37
        }
      ]
    },
    {
      "cell_type": "code",
      "metadata": {
        "id": "YHEVFyKkRj_R"
      },
      "source": [
        "s = []\n",
        "for row in df.tags:\n",
        "  for i in row:\n",
        "    s.append(i)\n",
        "tags = pd.Series(s)"
      ],
      "execution_count": 38,
      "outputs": []
    },
    {
      "cell_type": "code",
      "metadata": {
        "colab": {
          "base_uri": "https://localhost:8080/"
        },
        "id": "svDXGV7ansn7",
        "outputId": "fb81646b-7914-439c-e2e6-cff8b2567760"
      },
      "source": [
        "tags"
      ],
      "execution_count": 39,
      "outputs": [
        {
          "output_type": "execute_result",
          "data": {
            "text/plain": [
              "0              children\n",
              "1            creativity\n",
              "2               culture\n",
              "3                 dance\n",
              "4             education\n",
              "              ...      \n",
              "19149              play\n",
              "19150     public spaces\n",
              "19151           society\n",
              "19152          software\n",
              "19153    urban planning\n",
              "Length: 19154, dtype: object"
            ]
          },
          "metadata": {
            "tags": []
          },
          "execution_count": 39
        }
      ]
    },
    {
      "cell_type": "code",
      "metadata": {
        "colab": {
          "base_uri": "https://localhost:8080/"
        },
        "id": "kYLKBleXntoY",
        "outputId": "d478c500-735f-46fb-af57-03e42414785c"
      },
      "source": [
        "tags_count = tags.value_counts()\n",
        "tags_count"
      ],
      "execution_count": 40,
      "outputs": [
        {
          "output_type": "execute_result",
          "data": {
            "text/plain": [
              "technology       727\n",
              "science          567\n",
              "global issues    501\n",
              "culture          486\n",
              "TEDx             450\n",
              "                ... \n",
              "evil               2\n",
              "cloud              1\n",
              "funny              1\n",
              "skateboarding      1\n",
              "testing            1\n",
              "Length: 416, dtype: int64"
            ]
          },
          "metadata": {
            "tags": []
          },
          "execution_count": 40
        }
      ]
    },
    {
      "cell_type": "code",
      "metadata": {
        "colab": {
          "base_uri": "https://localhost:8080/",
          "height": 344
        },
        "id": "nrFVfhkQn24Y",
        "outputId": "e593e586-f152-42f2-b6e2-2f6514999f44"
      },
      "source": [
        "tags_count[:10].plot.bar()"
      ],
      "execution_count": 41,
      "outputs": [
        {
          "output_type": "execute_result",
          "data": {
            "text/plain": [
              "<matplotlib.axes._subplots.AxesSubplot at 0x7f8a3f52dd90>"
            ]
          },
          "metadata": {
            "tags": []
          },
          "execution_count": 41
        },
        {
          "output_type": "display_data",
          "data": {
            "image/png": "[encoded data removed]",
            "text/plain": [
              "<Figure size 432x288 with 1 Axes>"
            ]
          },
          "metadata": {
            "tags": [],
            "needs_background": "light"
          }
        }
      ]
    },
    {
      "cell_type": "code",
      "metadata": {
        "id": "SfgVZloIn-a0"
      },
      "source": [
        ""
      ],
      "execution_count": 41,
      "outputs": []
    }
  ]
}