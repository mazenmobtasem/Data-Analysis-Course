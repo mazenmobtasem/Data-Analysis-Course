{
  "nbformat": 4,
  "nbformat_minor": 0,
  "metadata": {
    "colab": {
      "name": "CSCI322_lab4_Mazen_Mobtasem.ipynb",
      "provenance": [],
      "collapsed_sections": []
    },
    "kernelspec": {
      "display_name": "Python 3",
      "language": "python",
      "name": "python3"
    },
    "language_info": {
      "codemirror_mode": {
        "name": "ipython",
        "version": 3
      },
      "file_extension": ".py",
      "mimetype": "text/x-python",
      "name": "python",
      "nbconvert_exporter": "python",
      "pygments_lexer": "ipython3",
      "version": "3.8.5"
    }
  },
  "cells": [
    {
      "cell_type": "code",
      "metadata": {
        "id": "1mJRU1at7vlt"
      },
      "source": [
        "import pandas as pd\n",
        "file = 'ted_main.csv'\n",
        "df = pd.read_csv(file)"
      ],
      "execution_count": 1,
      "outputs": []
    },
    {
      "cell_type": "code",
      "metadata": {
        "colab": {
          "base_uri": "https://localhost:8080/",
          "height": 598
        },
        "id": "ShajsZJhF6Ty",
        "outputId": "7e5c1e98-17ca-4e0f-83e7-947b1e4f7a90"
      },
      "source": [
        "df.head()"
      ],
      "execution_count": 2,
      "outputs": [
        {
          "output_type": "execute_result",
          "data": {
            "text/html": [
              "<div>\n",
              "<style scoped>\n",
              "    .dataframe tbody tr th:only-of-type {\n",
              "        vertical-align: middle;\n",
              "    }\n",
              "\n",
              "    .dataframe tbody tr th {\n",
              "        vertical-align: top;\n",
              "    }\n",
              "\n",
              "    .dataframe thead th {\n",
              "        text-align: right;\n",
              "    }\n",
              "</style>\n",
              "<table border=\"1\" class=\"dataframe\">\n",
              "  <thead>\n",
              "    <tr style=\"text-align: right;\">\n",
              "      <th></th>\n",
              "      <th>comments</th>\n",
              "      <th>description</th>\n",
              "      <th>duration</th>\n",
              "      <th>event</th>\n",
              "      <th>film_date</th>\n",
              "      <th>languages</th>\n",
              "      <th>main_speaker</th>\n",
              "      <th>name</th>\n",
              "      <th>num_speaker</th>\n",
              "      <th>published_date</th>\n",
              "      <th>ratings</th>\n",
              "      <th>related_talks</th>\n",
              "      <th>speaker_occupation</th>\n",
              "      <th>tags</th>\n",
              "      <th>title</th>\n",
              "      <th>url</th>\n",
              "      <th>views</th>\n",
              "    </tr>\n",
              "  </thead>\n",
              "  <tbody>\n",
              "    <tr>\n",
              "      <th>0</th>\n",
              "      <td>4553</td>\n",
              "      <td>Sir Ken Robinson makes an entertaining and pro...</td>\n",
              "      <td>1164</td>\n",
              "      <td>TED2006</td>\n",
              "      <td>1140825600</td>\n",
              "      <td>60</td>\n",
              "      <td>Ken Robinson</td>\n",
              "      <td>Ken Robinson: Do schools kill creativity?</td>\n",
              "      <td>1</td>\n",
              "      <td>1151367060</td>\n",
              "      <td>[{'id': 7, 'name': 'Funny', 'count': 19645}, {...</td>\n",
              "      <td>[{'id': 865, 'hero': 'https://pe.tedcdn.com/im...</td>\n",
              "      <td>Author/educator</td>\n",
              "      <td>['children', 'creativity', 'culture', 'dance',...</td>\n",
              "      <td>Do schools kill creativity?</td>\n",
              "      <td>https://www.ted.com/talks/ken_robinson_says_sc...</td>\n",
              "      <td>47227110</td>\n",
              "    </tr>\n",
              "    <tr>\n",
              "      <th>1</th>\n",
              "      <td>265</td>\n",
              "      <td>With the same humor and humanity he exuded in ...</td>\n",
              "      <td>977</td>\n",
              "      <td>TED2006</td>\n",
              "      <td>1140825600</td>\n",
              "      <td>43</td>\n",
              "      <td>Al Gore</td>\n",
              "      <td>Al Gore: Averting the climate crisis</td>\n",
              "      <td>1</td>\n",
              "      <td>1151367060</td>\n",
              "      <td>[{'id': 7, 'name': 'Funny', 'count': 544}, {'i...</td>\n",
              "      <td>[{'id': 243, 'hero': 'https://pe.tedcdn.com/im...</td>\n",
              "      <td>Climate advocate</td>\n",
              "      <td>['alternative energy', 'cars', 'climate change...</td>\n",
              "      <td>Averting the climate crisis</td>\n",
              "      <td>https://www.ted.com/talks/al_gore_on_averting_...</td>\n",
              "      <td>3200520</td>\n",
              "    </tr>\n",
              "    <tr>\n",
              "      <th>2</th>\n",
              "      <td>124</td>\n",
              "      <td>New York Times columnist David Pogue takes aim...</td>\n",
              "      <td>1286</td>\n",
              "      <td>TED2006</td>\n",
              "      <td>1140739200</td>\n",
              "      <td>26</td>\n",
              "      <td>David Pogue</td>\n",
              "      <td>David Pogue: Simplicity sells</td>\n",
              "      <td>1</td>\n",
              "      <td>1151367060</td>\n",
              "      <td>[{'id': 7, 'name': 'Funny', 'count': 964}, {'i...</td>\n",
              "      <td>[{'id': 1725, 'hero': 'https://pe.tedcdn.com/i...</td>\n",
              "      <td>Technology columnist</td>\n",
              "      <td>['computers', 'entertainment', 'interface desi...</td>\n",
              "      <td>Simplicity sells</td>\n",
              "      <td>https://www.ted.com/talks/david_pogue_says_sim...</td>\n",
              "      <td>1636292</td>\n",
              "    </tr>\n",
              "    <tr>\n",
              "      <th>3</th>\n",
              "      <td>200</td>\n",
              "      <td>In an emotionally charged talk, MacArthur-winn...</td>\n",
              "      <td>1116</td>\n",
              "      <td>TED2006</td>\n",
              "      <td>1140912000</td>\n",
              "      <td>35</td>\n",
              "      <td>Majora Carter</td>\n",
              "      <td>Majora Carter: Greening the ghetto</td>\n",
              "      <td>1</td>\n",
              "      <td>1151367060</td>\n",
              "      <td>[{'id': 3, 'name': 'Courageous', 'count': 760}...</td>\n",
              "      <td>[{'id': 1041, 'hero': 'https://pe.tedcdn.com/i...</td>\n",
              "      <td>Activist for environmental justice</td>\n",
              "      <td>['MacArthur grant', 'activism', 'business', 'c...</td>\n",
              "      <td>Greening the ghetto</td>\n",
              "      <td>https://www.ted.com/talks/majora_carter_s_tale...</td>\n",
              "      <td>1697550</td>\n",
              "    </tr>\n",
              "    <tr>\n",
              "      <th>4</th>\n",
              "      <td>593</td>\n",
              "      <td>You've never seen data presented like this. Wi...</td>\n",
              "      <td>1190</td>\n",
              "      <td>TED2006</td>\n",
              "      <td>1140566400</td>\n",
              "      <td>48</td>\n",
              "      <td>Hans Rosling</td>\n",
              "      <td>Hans Rosling: The best stats you've ever seen</td>\n",
              "      <td>1</td>\n",
              "      <td>1151440680</td>\n",
              "      <td>[{'id': 9, 'name': 'Ingenious', 'count': 3202}...</td>\n",
              "      <td>[{'id': 2056, 'hero': 'https://pe.tedcdn.com/i...</td>\n",
              "      <td>Global health expert; data visionary</td>\n",
              "      <td>['Africa', 'Asia', 'Google', 'demo', 'economic...</td>\n",
              "      <td>The best stats you've ever seen</td>\n",
              "      <td>https://www.ted.com/talks/hans_rosling_shows_t...</td>\n",
              "      <td>12005869</td>\n",
              "    </tr>\n",
              "  </tbody>\n",
              "</table>\n",
              "</div>"
            ],
            "text/plain": [
              "   comments  ...     views\n",
              "0      4553  ...  47227110\n",
              "1       265  ...   3200520\n",
              "2       124  ...   1636292\n",
              "3       200  ...   1697550\n",
              "4       593  ...  12005869\n",
              "\n",
              "[5 rows x 17 columns]"
            ]
          },
          "metadata": {
            "tags": []
          },
          "execution_count": 2
        }
      ]
    },
    {
      "cell_type": "markdown",
      "metadata": {
        "id": "dOIWUA9D3jeQ"
      },
      "source": [
        "# Sampling"
      ]
    },
    {
      "cell_type": "markdown",
      "metadata": {
        "id": "7cUeeE2049OX"
      },
      "source": [
        "## 1. Simple random sampling"
      ]
    },
    {
      "cell_type": "markdown",
      "metadata": {
        "id": "JF2QqarMe-ji"
      },
      "source": [
        "**pick the views column and choose a random sample of 500 elements then plot the sample after sorting the index**"
      ]
    },
    {
      "cell_type": "code",
      "metadata": {
        "colab": {
          "base_uri": "https://localhost:8080/"
        },
        "id": "eJ60ZfIOF-ct",
        "outputId": "f7b4c5f7-5739-4355-ee14-a5e1b805d52a"
      },
      "source": [
        "views = df['views']\n",
        "len(views)"
      ],
      "execution_count": 3,
      "outputs": [
        {
          "output_type": "execute_result",
          "data": {
            "text/plain": [
              "2550"
            ]
          },
          "metadata": {
            "tags": []
          },
          "execution_count": 3
        }
      ]
    },
    {
      "cell_type": "code",
      "metadata": {
        "colab": {
          "base_uri": "https://localhost:8080/"
        },
        "id": "bQoP7srje-jj",
        "outputId": "1557f3b5-4755-4b4e-d9f1-0508e5994112"
      },
      "source": [
        "sample = views.sample(500)\n",
        "sample"
      ],
      "execution_count": 4,
      "outputs": [
        {
          "output_type": "execute_result",
          "data": {
            "text/plain": [
              "1334     1337967\n",
              "939      1215549\n",
              "1566     1537390\n",
              "2014     1588477\n",
              "249       217663\n",
              "          ...   \n",
              "95        616385\n",
              "675      2212944\n",
              "553     16097077\n",
              "1130      318110\n",
              "204      1277619\n",
              "Name: views, Length: 500, dtype: int64"
            ]
          },
          "metadata": {
            "tags": []
          },
          "execution_count": 4
        }
      ]
    },
    {
      "cell_type": "code",
      "metadata": {
        "colab": {
          "base_uri": "https://localhost:8080/",
          "height": 293
        },
        "id": "O6ykXehp-MdG",
        "outputId": "183f10cc-775d-4dbe-b0be-43a1a99899af"
      },
      "source": [
        "sample.sort_index().plot()"
      ],
      "execution_count": 5,
      "outputs": [
        {
          "output_type": "execute_result",
          "data": {
            "text/plain": [
              "<matplotlib.axes._subplots.AxesSubplot at 0x7fd2e5a062d0>"
            ]
          },
          "metadata": {
            "tags": []
          },
          "execution_count": 5
        },
        {
          "output_type": "display_data",
          "data": {
            "image/png": "[encoded data removed]",
            "text/plain": [
              "<Figure size 432x288 with 1 Axes>"
            ]
          },
          "metadata": {
            "tags": [],
            "needs_background": "light"
          }
        }
      ]
    },
    {
      "cell_type": "markdown",
      "metadata": {
        "id": "O2lc8cH9e-jo"
      },
      "source": [
        "**plot the views original column and see the difference in both distributions**"
      ]
    },
    {
      "cell_type": "code",
      "metadata": {
        "id": "F1luN8Pze-jp",
        "colab": {
          "base_uri": "https://localhost:8080/",
          "height": 293
        },
        "outputId": "aa0e5756-dff5-4be5-af3f-937abf22ef26"
      },
      "source": [
        "views.plot()"
      ],
      "execution_count": 6,
      "outputs": [
        {
          "output_type": "execute_result",
          "data": {
            "text/plain": [
              "<matplotlib.axes._subplots.AxesSubplot at 0x7fd2e5993c50>"
            ]
          },
          "metadata": {
            "tags": []
          },
          "execution_count": 6
        },
        {
          "output_type": "display_data",
          "data": {
            "image/png": "[encoded data removed]",
            "text/plain": [
              "<Figure size 432x288 with 1 Axes>"
            ]
          },
          "metadata": {
            "tags": [],
            "needs_background": "light"
          }
        }
      ]
    },
    {
      "cell_type": "markdown",
      "metadata": {
        "id": "ETvl6Lly5C10"
      },
      "source": [
        "## 2. Stratified random sampling "
      ]
    },
    {
      "cell_type": "markdown",
      "metadata": {
        "id": "c1yC1jfye-jt"
      },
      "source": [
        "**apply the stratified random sampling on the views column with 5 stratified samples and 500 elements in total**"
      ]
    },
    {
      "cell_type": "code",
      "metadata": {
        "colab": {
          "base_uri": "https://localhost:8080/"
        },
        "id": "ry6oVMovF6w7",
        "outputId": "48aef649-d791-4cd8-a039-4b888920ba6d"
      },
      "source": [
        "## your code here\n",
        "minn = views.min()\n",
        "maxx = views.max()\n",
        "diff = (views.max() - views.min())\n",
        "print(\"Minimum: \",minn)\n",
        "print(\"Maximum: \",maxx)\n",
        "print(\"difference: \",diff)"
      ],
      "execution_count": 7,
      "outputs": [
        {
          "output_type": "stream",
          "text": [
            "Minimum:  50443\n",
            "Maximum:  47227110\n",
            "difference:  47176667\n"
          ],
          "name": "stdout"
        }
      ]
    },
    {
      "cell_type": "code",
      "metadata": {
        "id": "yU3sqqQhGIdJ"
      },
      "source": [
        "m = minn\n",
        "l = diff//5\n",
        "g1 = views[views < m+l].dropna()\n",
        "g2 = views[(views >= m+l) & (views <= m+2*l)].dropna()\n",
        "g3 = views[(views >= m+2*l) & (views <= m+3*l)].dropna()\n",
        "g4 = views[(views >= m+3*l) & (views <= m+4*l)].dropna()\n",
        "g5 = views[views >= m+4*l].dropna()"
      ],
      "execution_count": 8,
      "outputs": []
    },
    {
      "cell_type": "code",
      "metadata": {
        "id": "XApYAJ7Wqg02",
        "colab": {
          "base_uri": "https://localhost:8080/"
        },
        "outputId": "29b96cc0-e301-4850-df02-637b0eb9f4d1"
      },
      "source": [
        "print(\"g1= \",len(g1))\n",
        "print(\"g2= \",len(g2))\n",
        "print(\"g3= \",len(g3))\n",
        "print(\"g4= \",len(g4))\n",
        "print(\"g5= \",len(g5))"
      ],
      "execution_count": 9,
      "outputs": [
        {
          "output_type": "stream",
          "text": [
            "g1=  2514\n",
            "g2=  26\n",
            "g3=  6\n",
            "g4=  2\n",
            "g5=  2\n"
          ],
          "name": "stdout"
        }
      ]
    },
    {
      "cell_type": "markdown",
      "metadata": {
        "id": "m7cDLSBpJTO3"
      },
      "source": [
        "Using Size 500"
      ]
    },
    {
      "cell_type": "code",
      "metadata": {
        "id": "Ax8jIXtOIz7N"
      },
      "source": [
        "size = 500\n",
        "s1 = g1.sample(int(size/len(views)*len(g1)))\n",
        "s2 = g2.sample(int(size/len(views)*len(g2)))\n",
        "s3 = g3.sample(int(size/len(views)*len(g3)))\n",
        "s4 = g4.sample(int(size/len(views)*len(g4)))\n",
        "s5 = g5.sample(int(size/len(views)*len(g5)))"
      ],
      "execution_count": 10,
      "outputs": []
    },
    {
      "cell_type": "code",
      "metadata": {
        "colab": {
          "base_uri": "https://localhost:8080/"
        },
        "id": "o5wEK1byJnQS",
        "outputId": "780d3162-9193-4b14-846a-68b7878f274a"
      },
      "source": [
        "print(\"sample of g1 = \",len(s1))\n",
        "print(\"sample of g2 = \",len(s2))\n",
        "print(\"sample of g3 = \",len(s3))\n",
        "print(\"sample of g4 = \",len(s4))\n",
        "print(\"sample of g5 = \",len(s5))"
      ],
      "execution_count": 11,
      "outputs": [
        {
          "output_type": "stream",
          "text": [
            "sample of g1 =  492\n",
            "sample of g2 =  5\n",
            "sample of g3 =  1\n",
            "sample of g4 =  0\n",
            "sample of g5 =  0\n"
          ],
          "name": "stdout"
        }
      ]
    },
    {
      "cell_type": "markdown",
      "metadata": {
        "id": "Dena20Bu5TxZ"
      },
      "source": [
        "## 3. Cluster sampling"
      ]
    },
    {
      "cell_type": "markdown",
      "metadata": {
        "id": "3kciZ-Dfe-jx"
      },
      "source": [
        "**cluster the samples based on the event, filter the events with occurrence more than 22 times, then pick an event randomly and plot its views**"
      ]
    },
    {
      "cell_type": "code",
      "metadata": {
        "id": "GOK11G0De-jy",
        "colab": {
          "base_uri": "https://localhost:8080/"
        },
        "outputId": "c085860d-58d6-4073-80ba-a0b41eb69f95"
      },
      "source": [
        "pd.Series(df['event'].unique()).sample(5)"
      ],
      "execution_count": 12,
      "outputs": [
        {
          "output_type": "execute_result",
          "data": {
            "text/plain": [
              "111    Full Spectrum Auditions\n",
              "307          TEDxCreativeCoast\n",
              "348        TEDxFulbrightDublin\n",
              "159            TEDxPortofSpain\n",
              "281              TEDWomen 2015\n",
              "dtype: object"
            ]
          },
          "metadata": {
            "tags": []
          },
          "execution_count": 12
        }
      ]
    },
    {
      "cell_type": "code",
      "metadata": {
        "id": "KPmvfkHtLlT8"
      },
      "source": [
        "event = pd.Series(df['event'].value_counts()>22)\n",
        "clusters = pd.Series(event[event == True].index)"
      ],
      "execution_count": 13,
      "outputs": []
    },
    {
      "cell_type": "code",
      "metadata": {
        "colab": {
          "base_uri": "https://localhost:8080/"
        },
        "id": "oen4nMf3lC3x",
        "outputId": "89e1049e-10a0-4031-a92f-6d4e8aced437"
      },
      "source": [
        "clusters.sample(1)"
      ],
      "execution_count": 14,
      "outputs": [
        {
          "output_type": "execute_result",
          "data": {
            "text/plain": [
              "13    TEDGlobal 2009\n",
              "dtype: object"
            ]
          },
          "metadata": {
            "tags": []
          },
          "execution_count": 14
        }
      ]
    },
    {
      "cell_type": "code",
      "metadata": {
        "colab": {
          "base_uri": "https://localhost:8080/",
          "height": 276
        },
        "id": "XEayq0pDlPoB",
        "outputId": "16523d4d-e290-48b9-c55b-d3c3bc0383a0"
      },
      "source": [
        "event_name = clusters.sample(1).values[0]\n",
        "df[df['event'] == event_name]['views'].plot();"
      ],
      "execution_count": 15,
      "outputs": [
        {
          "output_type": "display_data",
          "data": {
            "image/png": "[encoded data removed]",
            "text/plain": [
              "<Figure size 432x288 with 1 Axes>"
            ]
          },
          "metadata": {
            "tags": [],
            "needs_background": "light"
          }
        }
      ]
    },
    {
      "cell_type": "markdown",
      "metadata": {
        "id": "ZxyvDmFAe-j0"
      },
      "source": [
        "## Binning"
      ]
    },
    {
      "cell_type": "markdown",
      "metadata": {
        "id": "n6_AHjk0e-j1"
      },
      "source": [
        "### Equal width"
      ]
    },
    {
      "cell_type": "code",
      "metadata": {
        "id": "WqkjTU8ue-j2",
        "colab": {
          "base_uri": "https://localhost:8080/",
          "height": 278
        },
        "outputId": "ba7fc686-5213-40d8-c9fb-534477e0ee33"
      },
      "source": [
        "views.plot.hist(bins = 5);"
      ],
      "execution_count": 16,
      "outputs": [
        {
          "output_type": "display_data",
          "data": {
            "image/png": "[encoded data removed]",
            "text/plain": [
              "<Figure size 432x288 with 1 Axes>"
            ]
          },
          "metadata": {
            "tags": [],
            "needs_background": "light"
          }
        }
      ]
    },
    {
      "cell_type": "markdown",
      "metadata": {
        "id": "ZYib27FNe-j4"
      },
      "source": [
        "### Equal depth(frequency)"
      ]
    },
    {
      "cell_type": "code",
      "metadata": {
        "id": "5x4lkz8nnDOZ"
      },
      "source": [
        "import numpy as np\n",
        "n = 5\n",
        "bins = np.sort(df['views'].to_numpy())\n",
        "bins = (bins - bins.mean())/bins.std()\n",
        "bins_original = bins"
      ],
      "execution_count": 17,
      "outputs": []
    },
    {
      "cell_type": "code",
      "metadata": {
        "colab": {
          "base_uri": "https://localhost:8080/",
          "height": 265
        },
        "id": "QuN-F7xCnWh8",
        "outputId": "eb17c3a8-28b1-460d-caae-ceaa55238e38"
      },
      "source": [
        "import matplotlib.pyplot as plt\n",
        "import scipy.stats as stats\n",
        "plt.plot(bins, stats.norm.pdf(bins,bins.mean(),bins.std()))\n",
        "plt.show()"
      ],
      "execution_count": 18,
      "outputs": [
        {
          "output_type": "display_data",
          "data": {
            "image/png": "[encoded data removed]",
            "text/plain": [
              "<Figure size 432x288 with 1 Axes>"
            ]
          },
          "metadata": {
            "tags": [],
            "needs_background": "light"
          }
        }
      ]
    },
    {
      "cell_type": "code",
      "metadata": {
        "colab": {
          "base_uri": "https://localhost:8080/"
        },
        "id": "VAGuLN8so4FC",
        "outputId": "586c5fe7-5e13-4884-ab29-32bb7a28c40a"
      },
      "source": [
        "bins"
      ],
      "execution_count": 19,
      "outputs": [
        {
          "output_type": "execute_result",
          "data": {
            "text/plain": [
              "array([-0.65967232, -0.6531771 , -0.646844  , ..., 13.05495299,\n",
              "       16.59619015, 18.22618304])"
            ]
          },
          "metadata": {
            "tags": []
          },
          "execution_count": 19
        }
      ]
    },
    {
      "cell_type": "code",
      "metadata": {
        "colab": {
          "base_uri": "https://localhost:8080/"
        },
        "id": "rJ_JnFUVo6iV",
        "outputId": "3e1bb008-f974-4240-9710-48a9dad563f5"
      },
      "source": [
        "depth = int(len(bins)/n)\n",
        "bins = bins.reshape((n,depth))\n",
        "bins"
      ],
      "execution_count": 20,
      "outputs": [
        {
          "output_type": "execute_result",
          "data": {
            "text/plain": [
              "array([[-0.65967232, -0.6531771 , -0.646844  , ..., -0.40745228,\n",
              "        -0.40741024, -0.40725292],\n",
              "       [-0.40689703, -0.40670488, -0.40592545, ..., -0.28607626,\n",
              "        -0.28597738, -0.28595136],\n",
              "       [-0.28585969, -0.28579604, -0.28565352, ..., -0.15738357,\n",
              "        -0.15713216, -0.15688917],\n",
              "       [-0.15683072, -0.15642199, -0.15639877, ...,  0.10536655,\n",
              "         0.10709033,  0.10923165],\n",
              "       [ 0.11005952,  0.11037257,  0.11156833, ..., 13.05495299,\n",
              "        16.59619015, 18.22618304]])"
            ]
          },
          "metadata": {
            "tags": []
          },
          "execution_count": 20
        }
      ]
    },
    {
      "cell_type": "code",
      "metadata": {
        "colab": {
          "base_uri": "https://localhost:8080/"
        },
        "id": "n8EmjgpcpHWi",
        "outputId": "cdf1f128-f67e-42a2-9145-f8dcedbde71a"
      },
      "source": [
        "bins.shape"
      ],
      "execution_count": 21,
      "outputs": [
        {
          "output_type": "execute_result",
          "data": {
            "text/plain": [
              "(5, 510)"
            ]
          },
          "metadata": {
            "tags": []
          },
          "execution_count": 21
        }
      ]
    },
    {
      "cell_type": "code",
      "metadata": {
        "colab": {
          "base_uri": "https://localhost:8080/"
        },
        "id": "_cpCyWKdpJO2",
        "outputId": "538d43e7-c0fa-4af6-a829-a05b2af5c5aa"
      },
      "source": [
        "bins_mean = list()\n",
        "bins_median = list()\n",
        "\n",
        "for b in bins:\n",
        "  mean = b.mean()\n",
        "  print(\"Mean = \",mean)\n",
        "  median = np.median(b)\n",
        "  print(\"Median = \",median,'\\n')\n",
        "  for i in range(len(b)):\n",
        "    bins_mean.append(mean)\n",
        "    bins_median.append(median)"
      ],
      "execution_count": 22,
      "outputs": [
        {
          "output_type": "stream",
          "text": [
            "Mean =  -0.49426893907736713\n",
            "Median =  -0.48600585287530407 \n",
            "\n",
            "Mean =  -0.345835092040759\n",
            "Median =  -0.34597903917984485 \n",
            "\n",
            "Mean =  -0.22699007258494208\n",
            "Median =  -0.22969431957703235 \n",
            "\n",
            "Mean =  -0.05055725304649879\n",
            "Median =  -0.06401687688884317 \n",
            "\n",
            "Mean =  1.1176513567495667\n",
            "Median =  0.5425317273966472 \n",
            "\n"
          ],
          "name": "stdout"
        }
      ]
    },
    {
      "cell_type": "markdown",
      "metadata": {
        "id": "m7-cRiWZe-j5"
      },
      "source": [
        "### binning with the mean"
      ]
    },
    {
      "cell_type": "code",
      "metadata": {
        "id": "EceiaHbVe-j6",
        "colab": {
          "base_uri": "https://localhost:8080/",
          "height": 265
        },
        "outputId": "c4c689dc-6b6d-4082-e7d2-54e155ff5ae6"
      },
      "source": [
        "plt.plot(bins_mean);"
      ],
      "execution_count": 23,
      "outputs": [
        {
          "output_type": "display_data",
          "data": {
            "image/png": "[encoded data removed]",
            "text/plain": [
              "<Figure size 432x288 with 1 Axes>"
            ]
          },
          "metadata": {
            "tags": [],
            "needs_background": "light"
          }
        }
      ]
    },
    {
      "cell_type": "markdown",
      "metadata": {
        "id": "0Cm3xVapqeQk"
      },
      "source": [
        "### binning with the median"
      ]
    },
    {
      "cell_type": "code",
      "metadata": {
        "id": "6RjPuPiIe-j7",
        "colab": {
          "base_uri": "https://localhost:8080/",
          "height": 265
        },
        "outputId": "919888ad-697b-4cb1-a3c3-3304db9f31c6"
      },
      "source": [
        "### Binning with the median\n",
        "plt.plot(bins_median);"
      ],
      "execution_count": 24,
      "outputs": [
        {
          "output_type": "display_data",
          "data": {
            "image/png": "[encoded data removed]",
            "text/plain": [
              "<Figure size 432x288 with 1 Axes>"
            ]
          },
          "metadata": {
            "tags": [],
            "needs_background": "light"
          }
        }
      ]
    },
    {
      "cell_type": "markdown",
      "metadata": {
        "id": "avAOdpRxe-j-"
      },
      "source": [
        "### Binning with the boundaries"
      ]
    },
    {
      "cell_type": "code",
      "metadata": {
        "id": "dPqe3-fje-j-",
        "colab": {
          "base_uri": "https://localhost:8080/"
        },
        "outputId": "74c792c2-c756-4b37-fd30-01fd95d6420d"
      },
      "source": [
        "bins_bound = list()\n",
        "for binn in bins:\n",
        "  minimum = binn.min()\n",
        "  print(\"Minimum = \",minimum)\n",
        "  maximum = binn.max()\n",
        "  print(\"Maximum = \",maximum,'\\n')\n",
        "  for b in binn:\n",
        "    bins_bound.append(minimum)"
      ],
      "execution_count": 25,
      "outputs": [
        {
          "output_type": "stream",
          "text": [
            "Minimum =  -0.6596723205731446\n",
            "Maximum =  -0.4072529174408006 \n",
            "\n",
            "Minimum =  -0.40689703122660575\n",
            "Maximum =  -0.28595136315149733 \n",
            "\n",
            "Minimum =  -0.28585968942478124\n",
            "Maximum =  -0.15688916752543147 \n",
            "\n",
            "Minimum =  -0.15683072052062558\n",
            "Maximum =  0.1092316546924401 \n",
            "\n",
            "Minimum =  0.11005952048654022\n",
            "Maximum =  18.22618304158943 \n",
            "\n"
          ],
          "name": "stdout"
        }
      ]
    },
    {
      "cell_type": "code",
      "metadata": {
        "id": "_gQEQnnVe-j_",
        "colab": {
          "base_uri": "https://localhost:8080/",
          "height": 265
        },
        "outputId": "7faaedc2-6c62-49aa-a1d2-81b0eefaf0ee"
      },
      "source": [
        "plt.plot(bins_bound);"
      ],
      "execution_count": 26,
      "outputs": [
        {
          "output_type": "display_data",
          "data": {
            "image/png": "[encoded data removed]",
            "text/plain": [
              "<Figure size 432x288 with 1 Axes>"
            ]
          },
          "metadata": {
            "tags": [],
            "needs_background": "light"
          }
        }
      ]
    },
    {
      "cell_type": "markdown",
      "metadata": {
        "id": "R-Wa9Oo_e-kA"
      },
      "source": [
        "### plot the original column without binning"
      ]
    },
    {
      "cell_type": "code",
      "metadata": {
        "id": "CUhc_KaBe-kC",
        "colab": {
          "base_uri": "https://localhost:8080/",
          "height": 282
        },
        "outputId": "ae9ac559-662d-4749-f2e7-baf56ca67c6d"
      },
      "source": [
        "plt.plot(bins_original)"
      ],
      "execution_count": 27,
      "outputs": [
        {
          "output_type": "execute_result",
          "data": {
            "text/plain": [
              "[<matplotlib.lines.Line2D at 0x7fd2d6ec9c50>]"
            ]
          },
          "metadata": {
            "tags": []
          },
          "execution_count": 27
        },
        {
          "output_type": "display_data",
          "data": {
            "image/png": "[encoded data removed]",
            "text/plain": [
              "<Figure size 432x288 with 1 Axes>"
            ]
          },
          "metadata": {
            "tags": [],
            "needs_background": "light"
          }
        }
      ]
    },
    {
      "cell_type": "markdown",
      "metadata": {
        "id": "wvJVeOsLe-kE"
      },
      "source": [
        "# Correlation Analysis"
      ]
    },
    {
      "cell_type": "markdown",
      "metadata": {
        "id": "WrrKEH03e-kE"
      },
      "source": [
        "**get the correlation between the views  and comments column**"
      ]
    },
    {
      "cell_type": "code",
      "metadata": {
        "id": "SNXKaT_Ne-kF",
        "colab": {
          "base_uri": "https://localhost:8080/",
          "height": 296
        },
        "outputId": "c14b1d21-cce2-4b87-bac1-64f2b2a7cb9e"
      },
      "source": [
        "df.plot.scatter(x = 'views', y = 'comments')"
      ],
      "execution_count": 28,
      "outputs": [
        {
          "output_type": "execute_result",
          "data": {
            "text/plain": [
              "<matplotlib.axes._subplots.AxesSubplot at 0x7fd2d6ed77d0>"
            ]
          },
          "metadata": {
            "tags": []
          },
          "execution_count": 28
        },
        {
          "output_type": "display_data",
          "data": {
            "image/png": "[encoded data removed]",
            "text/plain": [
              "<Figure size 432x288 with 1 Axes>"
            ]
          },
          "metadata": {
            "tags": [],
            "needs_background": "light"
          }
        }
      ]
    },
    {
      "cell_type": "code",
      "metadata": {
        "id": "1B9GJ97Be-kG",
        "colab": {
          "base_uri": "https://localhost:8080/"
        },
        "outputId": "563f0ff8-5f8d-493b-9a71-d46f7dd5029b"
      },
      "source": [
        "a_mean = df['views'].mean()\n",
        "b_mean = df['comments'].mean()\n",
        "print(a_mean, b_mean)\n",
        "s = sum([(a - a_mean)*(b - b_mean) for a,b in zip(df['views'],df['comments'])])\n",
        "print(s)\n",
        "cov = sum([(a - a_mean)*(b - b_mean) for a,b in zip(df['views'],df['comments'])])/(len(df)-1)\n",
        "print(cov)\n",
        "corr = cov/(df['views'].std()*df['comments'].std())"
      ],
      "execution_count": 29,
      "outputs": [
        {
          "output_type": "stream",
          "text": [
            "1698297.4815686275 191.56235294117647\n",
            "954606272062.4326\n",
            "374502264.4419116\n"
          ],
          "name": "stdout"
        }
      ]
    },
    {
      "cell_type": "code",
      "metadata": {
        "id": "bQja35yle-kI",
        "colab": {
          "base_uri": "https://localhost:8080/"
        },
        "outputId": "57cb240d-8717-4be3-e9b5-d160a1e1e1a9"
      },
      "source": [
        "corr"
      ],
      "execution_count": 30,
      "outputs": [
        {
          "output_type": "execute_result",
          "data": {
            "text/plain": [
              "0.5309387006213677"
            ]
          },
          "metadata": {
            "tags": []
          },
          "execution_count": 30
        }
      ]
    },
    {
      "cell_type": "code",
      "metadata": {
        "id": "abSpCmcne-kJ",
        "colab": {
          "base_uri": "https://localhost:8080/"
        },
        "outputId": "18a3e018-632f-44ff-b4b4-aeb8ddf03756"
      },
      "source": [
        "from scipy.stats import pearsonr\n",
        "pearsonr(df['views'],df['comments'])"
      ],
      "execution_count": 31,
      "outputs": [
        {
          "output_type": "execute_result",
          "data": {
            "text/plain": [
              "(0.5309387006213676, 1.8033220870969764e-185)"
            ]
          },
          "metadata": {
            "tags": []
          },
          "execution_count": 31
        }
      ]
    },
    {
      "cell_type": "code",
      "metadata": {
        "id": "JW0i3L8DvY3r"
      },
      "source": [
        ""
      ],
      "execution_count": 31,
      "outputs": []
    }
  ]
}