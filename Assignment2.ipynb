{
  "nbformat": 4,
  "nbformat_minor": 0,
  "metadata": {
    "colab": {
      "name": "Assignment_2 (2).ipynb",
      "provenance": [],
      "collapsed_sections": []
    },
    "kernelspec": {
      "display_name": "Python 3",
      "language": "python",
      "name": "python3"
    },
    "language_info": {
      "codemirror_mode": {
        "name": "ipython",
        "version": 3
      },
      "file_extension": ".py",
      "mimetype": "text/x-python",
      "name": "python",
      "nbconvert_exporter": "python",
      "pygments_lexer": "ipython3",
      "version": "3.6.5"
    }
  },
  "cells": [
    {
      "cell_type": "markdown",
      "metadata": {
        "id": "NO1ga5T_aIx-"
      },
      "source": [
        "# Linear Regression"
      ]
    },
    {
      "cell_type": "code",
      "metadata": {
        "colab": {
          "base_uri": "https://localhost:8080/",
          "height": 330
        },
        "id": "FiJ5-avGN-Ox",
        "outputId": "90b41e4d-4fbd-43a0-c9f6-fec896e76b41"
      },
      "source": [
        "import numpy as np\n",
        "import matplotlib.pyplot as plt\n",
        "x = np.array([20,25,30,35,40,45,50,55,60,65])\n",
        "y = np.array([0.5,1.8,5,6,6.2,6.5,7.8,9.4,9.8,10.9])\n",
        "def LR(x,y):\n",
        "    n = np.size(x)\n",
        "\n",
        "    mean_x = np.mean(x)\n",
        "    mean_y = np.mean(y)\n",
        "\n",
        "    SS_xy = np.sum(y*x) - n*mean_y*mean_x\n",
        "    SS_xx = np.sum(x*x) - n*mean_x*mean_x\n",
        "\n",
        "    b = SS_xy / SS_xx\n",
        "    a = mean_y - b*mean_x\n",
        "\n",
        "    plt.scatter(x, y)\n",
        "\n",
        "    y_pred = a + b*x\n",
        "\n",
        "    print(\"Estimated coefficients: \\n a:\",a,\"\\n b: \",b)\n",
        "\n",
        "    plt.plot(x, y_pred, color = \"g\")\n",
        "    plt.xlabel('x')\n",
        "    plt.ylabel('y')\n",
        "    plt.show()\n",
        "\n",
        "LR(x,y)"
      ],
      "execution_count": 1,
      "outputs": [
        {
          "output_type": "stream",
          "text": [
            "Estimated coefficients: \n",
            " a: -2.743636363636363 \n",
            " b:  0.2149090909090909\n"
          ],
          "name": "stdout"
        },
        {
          "output_type": "display_data",
          "data": {
            "image/png": "[encoded data removed]",
            "text/plain": [
              "<Figure size 432x288 with 1 Axes>"
            ]
          },
          "metadata": {
            "tags": [],
            "needs_background": "light"
          }
        }
      ]
    },
    {
      "cell_type": "markdown",
      "metadata": {
        "id": "blObEgPkboji"
      },
      "source": [
        "# Multilinear Regression"
      ]
    },
    {
      "cell_type": "code",
      "metadata": {
        "id": "iL0kgv8DWbCK"
      },
      "source": [
        "def MultiLR(x,y):\n",
        "  x_tran = x.T\n",
        "  first = np.matmul(x_tran,x)\n",
        "  first_inv = np.linalg.inv(first)\n",
        "  second = np.matmul(x_tran,y)\n",
        "  W = np.matmul(first_inv,second)\n",
        "  return W"
      ],
      "execution_count": 2,
      "outputs": []
    },
    {
      "cell_type": "markdown",
      "metadata": {
        "id": "7e0nljGLbojk"
      },
      "source": [
        "## 2nd Degree MLR"
      ]
    },
    {
      "cell_type": "code",
      "metadata": {
        "id": "Z-dWd9TKbojk"
      },
      "source": [
        "X = np.array([x,x**2,np.ones(len(x))]).T\n",
        "w = MultiLR(X,y)"
      ],
      "execution_count": 3,
      "outputs": []
    },
    {
      "cell_type": "code",
      "metadata": {
        "id": "08eTQa4VMLJV"
      },
      "source": [
        "generated = np.linspace(20,65,num=100)\n",
        "X_gen = np.array([generated,generated**2,np.ones(len(generated))]).T\n",
        "Y_Prediction = np.matmul(X_gen,w.T)"
      ],
      "execution_count": 4,
      "outputs": []
    },
    {
      "cell_type": "code",
      "metadata": {
        "colab": {
          "base_uri": "https://localhost:8080/",
          "height": 265
        },
        "id": "V8MaUu1NM_y0",
        "outputId": "26c45759-588f-4eb7-9c54-d49d949ca0ab"
      },
      "source": [
        "plt.plot(generated,Y_Prediction)\n",
        "plt.scatter(X[:,0],y);"
      ],
      "execution_count": 5,
      "outputs": [
        {
          "output_type": "display_data",
          "data": {
            "image/png": "[encoded data removed]",
            "text/plain": [
              "<Figure size 432x288 with 1 Axes>"
            ]
          },
          "metadata": {
            "tags": [],
            "needs_background": "light"
          }
        }
      ]
    },
    {
      "cell_type": "markdown",
      "metadata": {
        "id": "LatNql1WQqUK"
      },
      "source": [
        "## 3rd Degree MLR"
      ]
    },
    {
      "cell_type": "code",
      "metadata": {
        "id": "PtEC3kombojn"
      },
      "source": [
        "X = np.array([x,x**2,x**3,np.ones(len(x))]).T\n",
        "w = MultiLR(X,y)"
      ],
      "execution_count": 6,
      "outputs": []
    },
    {
      "cell_type": "code",
      "metadata": {
        "id": "LD98BfDebojn"
      },
      "source": [
        "generated = np.linspace(20,65,num=100)\n",
        "X_gen = np.array([generated,generated**2,generated**3,np.ones(len(generated))]).T\n",
        "Y_Prediction = np.matmul(X_gen,w.T)"
      ],
      "execution_count": 7,
      "outputs": []
    },
    {
      "cell_type": "code",
      "metadata": {
        "colab": {
          "base_uri": "https://localhost:8080/",
          "height": 265
        },
        "id": "Wq8yfjPubojo",
        "outputId": "4d265cda-cb5c-47d7-a266-53276bb47c52"
      },
      "source": [
        "plt.plot(generated,Y_Prediction)\n",
        "plt.scatter(X[:,0],y);"
      ],
      "execution_count": 8,
      "outputs": [
        {
          "output_type": "display_data",
          "data": {
            "image/png": "[encoded data removed]",
            "text/plain": [
              "<Figure size 432x288 with 1 Axes>"
            ]
          },
          "metadata": {
            "tags": [],
            "needs_background": "light"
          }
        }
      ]
    },
    {
      "cell_type": "markdown",
      "metadata": {
        "id": "cV7DWVorbojo"
      },
      "source": [
        "## 5th Degree MLR"
      ]
    },
    {
      "cell_type": "code",
      "metadata": {
        "id": "jsg5dcxbbojp"
      },
      "source": [
        "X = np.array([x,x**2,x**3,x**4,x**5,np.ones(len(x))]).T\n",
        "w = MultiLR(X,y)"
      ],
      "execution_count": 9,
      "outputs": []
    },
    {
      "cell_type": "code",
      "metadata": {
        "id": "lNYfsqhAbojp"
      },
      "source": [
        "generated = np.linspace(20,65,num=100)\n",
        "X_gen = np.array([generated,generated**2,generated**3,\n",
        "                  generated**4,generated**5,np.ones(len(generated))]).T\n",
        "Y_Prediction = np.matmul(X_gen,w.T)"
      ],
      "execution_count": 10,
      "outputs": []
    },
    {
      "cell_type": "code",
      "metadata": {
        "colab": {
          "base_uri": "https://localhost:8080/",
          "height": 265
        },
        "id": "rnEB9Lohbojp",
        "outputId": "950031ea-114f-4132-b7ba-607498bc1a55"
      },
      "source": [
        "plt.plot(generated,Y_Prediction)\n",
        "plt.scatter(X[:,0],y);"
      ],
      "execution_count": 11,
      "outputs": [
        {
          "output_type": "display_data",
          "data": {
            "image/png": "[encoded data removed]",
            "text/plain": [
              "<Figure size 432x288 with 1 Axes>"
            ]
          },
          "metadata": {
            "tags": [],
            "needs_background": "light"
          }
        }
      ]
    },
    {
      "cell_type": "markdown",
      "metadata": {
        "id": "xSPvuKZZbojq"
      },
      "source": [
        "## 8th Degree MLR"
      ]
    },
    {
      "cell_type": "code",
      "metadata": {
        "id": "hXw7BxaUbojq"
      },
      "source": [
        "X = np.array([x,x**2,x**3,x**4,x**5,x**6,x**7,x**8,np.ones(len(x))]).T\n",
        "w = MultiLR(X,y)"
      ],
      "execution_count": 12,
      "outputs": []
    },
    {
      "cell_type": "code",
      "metadata": {
        "id": "cgHjhgifbojq"
      },
      "source": [
        "generated = np.linspace(20,65,num=100)\n",
        "X_gen = np.array([generated,generated**2,generated**3,generated**4,generated**5,\n",
        "                 generated**6,generated**7,generated**8,np.ones(len(generated))]).T\n",
        "Y_Prediction = np.matmul(X_gen,w.T)"
      ],
      "execution_count": 13,
      "outputs": []
    },
    {
      "cell_type": "code",
      "metadata": {
        "colab": {
          "base_uri": "https://localhost:8080/",
          "height": 265
        },
        "id": "FgLd1nOKbojr",
        "outputId": "7d022297-ffd1-452c-9454-746ca6fb3812"
      },
      "source": [
        "plt.plot(generated,Y_Prediction)\n",
        "plt.scatter(X[:,0],y);"
      ],
      "execution_count": 14,
      "outputs": [
        {
          "output_type": "display_data",
          "data": {
            "image/png": "[encoded data removed]",
            "text/plain": [
              "<Figure size 432x288 with 1 Axes>"
            ]
          },
          "metadata": {
            "tags": [],
            "needs_background": "light"
          }
        }
      ]
    }
  ]
}